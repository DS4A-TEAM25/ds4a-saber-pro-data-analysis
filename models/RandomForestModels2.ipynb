{
 "cells": [
  {
   "cell_type": "markdown",
   "metadata": {},
   "source": [
    "## Random forest Regression\n",
    "\n",
    "## Calculo de los modelos para las 5 competencias y el score principal, tunning de las variables y codigo para guardar los modelos"
   ]
  },
  {
   "cell_type": "markdown",
   "metadata": {
    "colab_type": "text",
    "id": "ixVlO5uhqePU"
   },
   "source": [
    "## 1. Instalar librerias"
   ]
  },
  {
   "cell_type": "code",
   "execution_count": 249,
   "metadata": {
    "colab": {
     "base_uri": "https://localhost:8080/",
     "height": 72
    },
    "colab_type": "code",
    "id": "anOceNVzsBPo",
    "outputId": "dcc33371-8ccd-4f4e-b682-b0bd98ef0b44"
   },
   "outputs": [],
   "source": [
    "import pandas as pd\n",
    "import numpy as np\n",
    "import copy\n",
    "import os\n",
    "import glob\n",
    "\n",
    "%matplotlib inline\n",
    "import matplotlib.pyplot as plt\n",
    "import datetime\n",
    "import matplotlib.dates as mdates\n",
    "\n",
    "# Required to display image inline\n",
    "from IPython.display import Image\n",
    "\n",
    "# Advanced plotting functionality with seaborn\n",
    "import seaborn as sns\n",
    "\n",
    "sns.set(style=\"whitegrid\")  # can set style depending on how you'd like it to look\n",
    "\n",
    "import sklearn.metrics       as Metrics\n",
    "\n",
    "import folium  #needed for interactive map\n",
    "from folium.plugins import HeatMap\n",
    "\n",
    "from   collections           import Counter\n",
    "from   sklearn               import preprocessing\n",
    "from   datetime              import datetime\n",
    "from   math                  import exp\n",
    "from   sklearn.linear_model  import LinearRegression as LinReg\n",
    "from   sklearn.metrics       import mean_absolute_error\n",
    "from   sklearn.metrics       import median_absolute_error\n",
    "from   sklearn.metrics       import r2_score\n",
    "\n",
    "%matplotlib inline\n",
    "sns.set()\n"
   ]
  },
  {
   "cell_type": "code",
   "execution_count": 250,
   "metadata": {},
   "outputs": [],
   "source": [
    "from sklearn.cluster import KMeans\n",
    "from sklearn.metrics import pairwise_distances_argmin_min\n",
    " \n",
    "%matplotlib inline\n",
    "from mpl_toolkits.mplot3d import Axes3D\n",
    "plt.rcParams['figure.figsize'] = (16, 9)\n",
    "plt.style.use('ggplot')"
   ]
  },
  {
   "cell_type": "markdown",
   "metadata": {},
   "source": [
    "### Para Ejecutar en Google Drive"
   ]
  },
  {
   "cell_type": "code",
   "execution_count": 251,
   "metadata": {
    "colab": {
     "base_uri": "https://localhost:8080/",
     "height": 124
    },
    "colab_type": "code",
    "id": "KQn0fw56qkMj",
    "outputId": "2d1c9fa2-53ee-4cbb-efcd-f052df55c7c5",
    "scrolled": true
   },
   "outputs": [],
   "source": [
    "#from google.colab import drive\n",
    "#drive.mount('/content/drive')"
   ]
  },
  {
   "cell_type": "markdown",
   "metadata": {},
   "source": [
    "## 2. Leer bases"
   ]
  },
  {
   "cell_type": "code",
   "execution_count": 252,
   "metadata": {},
   "outputs": [],
   "source": [
    "os.chdir('C:/Users/nohor/Documents/DS4A/Project/Data')\n",
    "extension = 'csv'\n",
    "all_filenames = [i for i in glob.glob('*.{}'.format(extension))]\n",
    "#print(all_filenames)"
   ]
  },
  {
   "cell_type": "code",
   "execution_count": 253,
   "metadata": {},
   "outputs": [
    {
     "name": "stdout",
     "output_type": "stream",
     "text": [
      "(148011, 123)\n"
     ]
    }
   ],
   "source": [
    "dfModelo2019 = pd.read_csv('dfModelo2019.csv')\n",
    "print (dfModelo2019.shape)"
   ]
  },
  {
   "cell_type": "code",
   "execution_count": 254,
   "metadata": {},
   "outputs": [
    {
     "data": {
      "text/plain": [
       "Index(['Unnamed: 0', 'Saber11Preparation', 'Gender', 'HrsWorking',\n",
       "       'TypeProgram', 'RootProgram', 'PaydScholarship', 'PaydCredit',\n",
       "       'PaydParents', 'PaydYourself',\n",
       "       ...\n",
       "       'CitizenScore3yearsProgram', 'EnglishScore3yearsProgram',\n",
       "       'ReadingScore3yearsProgram', 'QuantitativeReasoningScore3yearsProgram',\n",
       "       'ComunicationScore3yearsProgram', 'CitizenScore3yearsUniversity',\n",
       "       'EnglishScore3yearsUniversity', 'ReadingScore3yearsUniversity',\n",
       "       'QuantitativeReasoningScore3yearsUniversity',\n",
       "       'ComunicationScore3yearsUniversity'],\n",
       "      dtype='object', length=123)"
      ]
     },
     "execution_count": 254,
     "metadata": {},
     "output_type": "execute_result"
    }
   ],
   "source": [
    "dfModelo2019.columns"
   ]
  },
  {
   "cell_type": "code",
   "execution_count": 255,
   "metadata": {},
   "outputs": [],
   "source": [
    "dfModelo2019a=dfModelo2019[[\n",
    "\n",
    "                            'Saber11Preparation',\n",
    "                            'Gender',\n",
    "                            'HrsWorking',\n",
    "                            'TypeProgram',\n",
    "                            'PaydScholarship',\n",
    "                            'PaydCredit',\n",
    "                            'PaydParents',\n",
    "                            'PaydYourself',\n",
    "                            'MotherEducation',\n",
    "                            'FatherEducation',\n",
    "                            'SocialStrata',\n",
    "                            'HaveVehicle',\n",
    "                            'HaveComputer',\n",
    "                            'HaveOvenGas',\n",
    "                            'HaveInternet',\n",
    "                            'HaveWasherMachine',\n",
    "                            'HaveMoto',\n",
    "                            'UniversityAcademicLevel',\n",
    "                            'ZoneLive',\n",
    "                            'ShareBathroom',\n",
    "                            'MotherJob',\n",
    "                            'FatherJob',\n",
    "                            'CostUniversiteSemester',\n",
    "                            'ScoreMathHighSchool',\n",
    "                            'ScoreEnglishHighSchool',\n",
    "                            'ScoreEnglishHighSchoolLevels',\n",
    "                            'PositionScoreHighSchool',\n",
    "                            'GenderHighSchool',\n",
    "                            'HighSchoolType',\n",
    "                            'HighSchoolCalendar',\n",
    "                            'HighSchoolBilingual',\n",
    "                            'HighSchoolTypeAcademic',\n",
    "                            'HighSchoolSchedule',\n",
    "                            'TimeExamvsS11',\n",
    "                            'StudentWorks',\n",
    "                            'StateLiveProgramSame',\n",
    "                            'StateLiveExamSame',\n",
    "                            'StateLiveHighSchoolSame',\n",
    "                            'SocialStrataNumber',\n",
    "                            'HomeNumberBath',\n",
    "                            'Age',\n",
    "                            'DistanceStateLiveProgram',\n",
    "                            'ClusterProgram',\n",
    "                            'ClusterUniversity',\n",
    "                            'StateScore',\n",
    "                            'ClusterState',\n",
    "\n",
    "                            'CompetenceCitizen4Levels',\n",
    "                            'CompetenceCitizenScore',\n",
    "                            'CompetenceEnglish4Levels',\n",
    "                            'CompetenceEnglishScore',\n",
    "                            'CompetenceReading4Levels',\n",
    "                            'CompetenceReadingScore',\n",
    "                            'CompetenceQuantitativeReasoning4Levels',\n",
    "                            'CompetenceQuantitativeReasoningScore',\n",
    "                            #'CompetenceComunication4Levels',\n",
    "                            'CompetenceComunicationScore',\n",
    "                            'GlobalScorePercentile',\n",
    "                            'GlobalScore',\n",
    "    \n",
    "                            'CitizenScore3yearsUniversity',\n",
    "                            'EnglishScore3yearsUniversity',\n",
    "                            'ReadingScore3yearsUniversity',\n",
    "                            'QuantitativeReasoningScore3yearsUniversity',\n",
    "                            'QuantitativeReasoningScore3yearsProgram',        \n",
    "                            'EnglishScore3yearsProgram',\n",
    "                            'CitizenScore3yearsProgram',\n",
    "                            'ReadingScore3yearsProgram',\n",
    "                            'EnglishScore3yearsUniversity',\n",
    "                            'EnglishScore3yearsState',\n",
    "                            'ComunicationScore3yearsProgram',\n",
    "                            'ComunicationScore3yearsUniversity',\n",
    "                            'ComunicationScore3yearsState',\n",
    "    \n",
    "                            'StateProgram', 'UniversityName', 'Program',\n",
    "    \n",
    "                            'Students'\n",
    "\n",
    "    \n",
    "    \n",
    "                        \n",
    "                            ]].dropna().copy()\n",
    "\n",
    "                            \n",
    "        #                   "
   ]
  },
  {
   "cell_type": "code",
   "execution_count": 256,
   "metadata": {},
   "outputs": [
    {
     "data": {
      "text/plain": [
       "(112804, 74)"
      ]
     },
     "execution_count": 256,
     "metadata": {},
     "output_type": "execute_result"
    }
   ],
   "source": [
    "dfModelo2019A1.shape"
   ]
  },
  {
   "cell_type": "code",
   "execution_count": 257,
   "metadata": {},
   "outputs": [
    {
     "data": {
      "text/html": [
       "<div>\n",
       "<style scoped>\n",
       "    .dataframe tbody tr th:only-of-type {\n",
       "        vertical-align: middle;\n",
       "    }\n",
       "\n",
       "    .dataframe tbody tr th {\n",
       "        vertical-align: top;\n",
       "    }\n",
       "\n",
       "    .dataframe thead th {\n",
       "        text-align: right;\n",
       "    }\n",
       "</style>\n",
       "<table border=\"1\" class=\"dataframe\">\n",
       "  <thead>\n",
       "    <tr style=\"text-align: right;\">\n",
       "      <th></th>\n",
       "      <th>Saber11Preparation</th>\n",
       "      <th>Gender</th>\n",
       "      <th>HrsWorking</th>\n",
       "      <th>TypeProgram</th>\n",
       "      <th>PaydScholarship</th>\n",
       "      <th>PaydCredit</th>\n",
       "      <th>PaydParents</th>\n",
       "      <th>PaydYourself</th>\n",
       "      <th>MotherEducation</th>\n",
       "      <th>FatherEducation</th>\n",
       "      <th>...</th>\n",
       "      <th>ReadingScore3yearsProgram</th>\n",
       "      <th>EnglishScore3yearsUniversity</th>\n",
       "      <th>EnglishScore3yearsState</th>\n",
       "      <th>ComunicationScore3yearsProgram</th>\n",
       "      <th>ComunicationScore3yearsUniversity</th>\n",
       "      <th>ComunicationScore3yearsState</th>\n",
       "      <th>StateProgram</th>\n",
       "      <th>UniversityName</th>\n",
       "      <th>Program</th>\n",
       "      <th>Students</th>\n",
       "    </tr>\n",
       "  </thead>\n",
       "  <tbody>\n",
       "    <tr>\n",
       "      <th>2</th>\n",
       "      <td>Tomo un curso de preparacion</td>\n",
       "      <td>F</td>\n",
       "      <td>Entre 11 y 20 horas</td>\n",
       "      <td>PRESENCIAL</td>\n",
       "      <td>No</td>\n",
       "      <td>No</td>\n",
       "      <td>Si</td>\n",
       "      <td>No</td>\n",
       "      <td>4Profesional</td>\n",
       "      <td>2Bachiller</td>\n",
       "      <td>...</td>\n",
       "      <td>142.857461</td>\n",
       "      <td>137.431472</td>\n",
       "      <td>153.308858</td>\n",
       "      <td>147.136137</td>\n",
       "      <td>142.095052</td>\n",
       "      <td>150.437911</td>\n",
       "      <td>VALLE</td>\n",
       "      <td>CORPORACION UNIVERSITARIA CENTRO SUPERIOR  UNI...</td>\n",
       "      <td>ADMINISTRACION DE EMPRESAS</td>\n",
       "      <td>1</td>\n",
       "    </tr>\n",
       "    <tr>\n",
       "      <th>3</th>\n",
       "      <td>No realizo ninguna prueba de preparacion</td>\n",
       "      <td>F</td>\n",
       "      <td>0</td>\n",
       "      <td>PRESENCIAL</td>\n",
       "      <td>No</td>\n",
       "      <td>No</td>\n",
       "      <td>Si</td>\n",
       "      <td>No</td>\n",
       "      <td>2Bachiller</td>\n",
       "      <td>2Bachiller</td>\n",
       "      <td>...</td>\n",
       "      <td>142.857461</td>\n",
       "      <td>137.431472</td>\n",
       "      <td>153.308858</td>\n",
       "      <td>147.136137</td>\n",
       "      <td>142.095052</td>\n",
       "      <td>150.437911</td>\n",
       "      <td>VALLE</td>\n",
       "      <td>CORPORACION UNIVERSITARIA CENTRO SUPERIOR  UNI...</td>\n",
       "      <td>ADMINISTRACION DE EMPRESAS</td>\n",
       "      <td>1</td>\n",
       "    </tr>\n",
       "    <tr>\n",
       "      <th>4</th>\n",
       "      <td>Repaso por cuenta propia</td>\n",
       "      <td>F</td>\n",
       "      <td>Mas de 30 horas</td>\n",
       "      <td>PRESENCIAL</td>\n",
       "      <td>No</td>\n",
       "      <td>No</td>\n",
       "      <td>No</td>\n",
       "      <td>Si</td>\n",
       "      <td>1NoBachiller</td>\n",
       "      <td>1NoBachiller</td>\n",
       "      <td>...</td>\n",
       "      <td>142.857461</td>\n",
       "      <td>137.431472</td>\n",
       "      <td>153.308858</td>\n",
       "      <td>147.136137</td>\n",
       "      <td>142.095052</td>\n",
       "      <td>150.437911</td>\n",
       "      <td>VALLE</td>\n",
       "      <td>CORPORACION UNIVERSITARIA CENTRO SUPERIOR  UNI...</td>\n",
       "      <td>ADMINISTRACION DE EMPRESAS</td>\n",
       "      <td>1</td>\n",
       "    </tr>\n",
       "    <tr>\n",
       "      <th>6</th>\n",
       "      <td>Tomo un curso de preparacion</td>\n",
       "      <td>F</td>\n",
       "      <td>Mas de 30 horas</td>\n",
       "      <td>PRESENCIAL</td>\n",
       "      <td>Si</td>\n",
       "      <td>Si</td>\n",
       "      <td>No</td>\n",
       "      <td>Si</td>\n",
       "      <td>1NoBachiller</td>\n",
       "      <td>2Bachiller</td>\n",
       "      <td>...</td>\n",
       "      <td>142.857461</td>\n",
       "      <td>137.431472</td>\n",
       "      <td>153.308858</td>\n",
       "      <td>147.136137</td>\n",
       "      <td>142.095052</td>\n",
       "      <td>150.437911</td>\n",
       "      <td>VALLE</td>\n",
       "      <td>CORPORACION UNIVERSITARIA CENTRO SUPERIOR  UNI...</td>\n",
       "      <td>ADMINISTRACION DE EMPRESAS</td>\n",
       "      <td>1</td>\n",
       "    </tr>\n",
       "    <tr>\n",
       "      <th>7</th>\n",
       "      <td>Repaso por cuenta propia</td>\n",
       "      <td>M</td>\n",
       "      <td>Mas de 30 horas</td>\n",
       "      <td>PRESENCIAL</td>\n",
       "      <td>No</td>\n",
       "      <td>Si</td>\n",
       "      <td>Si</td>\n",
       "      <td>Si</td>\n",
       "      <td>1NoBachiller</td>\n",
       "      <td>Educacion profesional incompleta</td>\n",
       "      <td>...</td>\n",
       "      <td>142.857461</td>\n",
       "      <td>137.431472</td>\n",
       "      <td>153.308858</td>\n",
       "      <td>147.136137</td>\n",
       "      <td>142.095052</td>\n",
       "      <td>150.437911</td>\n",
       "      <td>VALLE</td>\n",
       "      <td>CORPORACION UNIVERSITARIA CENTRO SUPERIOR  UNI...</td>\n",
       "      <td>ADMINISTRACION DE EMPRESAS</td>\n",
       "      <td>1</td>\n",
       "    </tr>\n",
       "  </tbody>\n",
       "</table>\n",
       "<p>5 rows × 74 columns</p>\n",
       "</div>"
      ],
      "text/plain": [
       "                         Saber11Preparation Gender           HrsWorking  \\\n",
       "2              Tomo un curso de preparacion      F  Entre 11 y 20 horas   \n",
       "3  No realizo ninguna prueba de preparacion      F                    0   \n",
       "4                  Repaso por cuenta propia      F      Mas de 30 horas   \n",
       "6              Tomo un curso de preparacion      F      Mas de 30 horas   \n",
       "7                  Repaso por cuenta propia      M      Mas de 30 horas   \n",
       "\n",
       "  TypeProgram PaydScholarship PaydCredit PaydParents PaydYourself  \\\n",
       "2  PRESENCIAL              No         No          Si           No   \n",
       "3  PRESENCIAL              No         No          Si           No   \n",
       "4  PRESENCIAL              No         No          No           Si   \n",
       "6  PRESENCIAL              Si         Si          No           Si   \n",
       "7  PRESENCIAL              No         Si          Si           Si   \n",
       "\n",
       "  MotherEducation                   FatherEducation  ...  \\\n",
       "2    4Profesional                        2Bachiller  ...   \n",
       "3      2Bachiller                        2Bachiller  ...   \n",
       "4    1NoBachiller                      1NoBachiller  ...   \n",
       "6    1NoBachiller                        2Bachiller  ...   \n",
       "7    1NoBachiller  Educacion profesional incompleta  ...   \n",
       "\n",
       "  ReadingScore3yearsProgram EnglishScore3yearsUniversity  \\\n",
       "2                142.857461                   137.431472   \n",
       "3                142.857461                   137.431472   \n",
       "4                142.857461                   137.431472   \n",
       "6                142.857461                   137.431472   \n",
       "7                142.857461                   137.431472   \n",
       "\n",
       "  EnglishScore3yearsState ComunicationScore3yearsProgram  \\\n",
       "2              153.308858                     147.136137   \n",
       "3              153.308858                     147.136137   \n",
       "4              153.308858                     147.136137   \n",
       "6              153.308858                     147.136137   \n",
       "7              153.308858                     147.136137   \n",
       "\n",
       "  ComunicationScore3yearsUniversity ComunicationScore3yearsState StateProgram  \\\n",
       "2                        142.095052                   150.437911        VALLE   \n",
       "3                        142.095052                   150.437911        VALLE   \n",
       "4                        142.095052                   150.437911        VALLE   \n",
       "6                        142.095052                   150.437911        VALLE   \n",
       "7                        142.095052                   150.437911        VALLE   \n",
       "\n",
       "                                      UniversityName  \\\n",
       "2  CORPORACION UNIVERSITARIA CENTRO SUPERIOR  UNI...   \n",
       "3  CORPORACION UNIVERSITARIA CENTRO SUPERIOR  UNI...   \n",
       "4  CORPORACION UNIVERSITARIA CENTRO SUPERIOR  UNI...   \n",
       "6  CORPORACION UNIVERSITARIA CENTRO SUPERIOR  UNI...   \n",
       "7  CORPORACION UNIVERSITARIA CENTRO SUPERIOR  UNI...   \n",
       "\n",
       "                      Program Students  \n",
       "2  ADMINISTRACION DE EMPRESAS        1  \n",
       "3  ADMINISTRACION DE EMPRESAS        1  \n",
       "4  ADMINISTRACION DE EMPRESAS        1  \n",
       "6  ADMINISTRACION DE EMPRESAS        1  \n",
       "7  ADMINISTRACION DE EMPRESAS        1  \n",
       "\n",
       "[5 rows x 74 columns]"
      ]
     },
     "execution_count": 257,
     "metadata": {},
     "output_type": "execute_result"
    }
   ],
   "source": [
    "dfModelo2019a.head()"
   ]
  },
  {
   "cell_type": "code",
   "execution_count": 258,
   "metadata": {},
   "outputs": [],
   "source": [
    "dfModelo2019a['ClusterUniversity'] = dfModelo2019a['ClusterUniversity'].astype('str')\n",
    "dfModelo2019a['StudentWorks'] = dfModelo2019a['StudentWorks'].astype('str')\n",
    "dfModelo2019a['StateLiveProgramSame'] = dfModelo2019a['StateLiveProgramSame'].astype('str')\n",
    "\n",
    "dfModelo2019a['StateLiveExamSame'] = dfModelo2019a['StateLiveExamSame'].astype('str')\n",
    "dfModelo2019a['StateLiveHighSchoolSame'] = dfModelo2019a['StateLiveHighSchoolSame'].astype('str')\n",
    "dfModelo2019a['ClusterProgram'] = dfModelo2019a['ClusterProgram'].astype('str')\n",
    "dfModelo2019a['ClusterState'] = dfModelo2019a['ClusterState'].astype('str')\n",
    "dfModelo2019a['CompetenceCitizen4Levels'] = dfModelo2019a['CompetenceCitizen4Levels'].astype('str')\n",
    "dfModelo2019a['CompetenceReading4Levels'] = dfModelo2019a['CompetenceReading4Levels'].astype('str')\n",
    "dfModelo2019a['CompetenceQuantitativeReasoning4Levels'] = dfModelo2019a['CompetenceQuantitativeReasoning4Levels'].astype('str')\n",
    "#dfModelo2019a['CompetenceComunication4Levels'] = dfModelo2019a['CompetenceComunication4Levels'].astype('str')\n"
   ]
  },
  {
   "cell_type": "code",
   "execution_count": 259,
   "metadata": {},
   "outputs": [
    {
     "data": {
      "text/plain": [
       "MotherEducation\n",
       "1NoBachiller    31616\n",
       "2Bachiller      34668\n",
       "3Tecnico        16586\n",
       "4Profesional    17943\n",
       "5Postgrado       9385\n",
       "6NS-NR           2606\n",
       "dtype: int64"
      ]
     },
     "execution_count": 259,
     "metadata": {},
     "output_type": "execute_result"
    }
   ],
   "source": [
    "dfModelo2019a.groupby(dfModelo2019a['MotherEducation']).size()"
   ]
  },
  {
   "cell_type": "code",
   "execution_count": 260,
   "metadata": {},
   "outputs": [
    {
     "data": {
      "text/plain": [
       "(112804, 71)"
      ]
     },
     "execution_count": 260,
     "metadata": {},
     "output_type": "execute_result"
    }
   ],
   "source": [
    "dfModelo2019A1= dfModelo2019a.drop(columns =['StateProgram', 'UniversityName', 'Program']).copy()\n",
    "dfModelo2019A1.shape"
   ]
  },
  {
   "cell_type": "code",
   "execution_count": 261,
   "metadata": {},
   "outputs": [],
   "source": [
    "dfModelo2019b = pd.get_dummies(dfModelo2019A1).copy()\n",
    "#dfModelo2019b = pd.get_dummies(dfModelo2019a,drop_first=True).copy()"
   ]
  },
  {
   "cell_type": "code",
   "execution_count": 262,
   "metadata": {},
   "outputs": [],
   "source": [
    "dfModelo2019b.to_csv (r'C:\\Users\\nohor\\Documents\\DS4A\\Project\\data\\dfModelo2019b.csv', header=True)"
   ]
  },
  {
   "cell_type": "code",
   "execution_count": 263,
   "metadata": {},
   "outputs": [],
   "source": [
    "dfModelo2019a.to_csv (r'C:\\Users\\nohor\\Documents\\DS4A\\Project\\data\\dfModelo2019a.csv', header=True)"
   ]
  },
  {
   "cell_type": "markdown",
   "metadata": {},
   "source": [
    "## Random forest regressor"
   ]
  },
  {
   "cell_type": "code",
   "execution_count": 264,
   "metadata": {},
   "outputs": [],
   "source": [
    "from sklearn import metrics\n",
    "from sklearn.ensemble import RandomForestRegressor \n",
    "from sklearn.model_selection import train_test_split"
   ]
  },
  {
   "cell_type": "code",
   "execution_count": 265,
   "metadata": {},
   "outputs": [],
   "source": [
    "def evaluate(model, X_test, y_test):\n",
    "    \n",
    "    predictions = model.predict(X_test)\n",
    "    errors = abs(predictions - y_test)\n",
    "    mape = 100 * np.mean(errors / y_test)\n",
    "    accuracy = 100 - mape\n",
    "    print('Model Performance')\n",
    "    print('Average Error: {:0.4f} degrees.'.format(np.mean(errors)))\n",
    "    print('Accuracy = {:0.2f}%.'.format(accuracy))\n",
    "\n",
    "    return accuracy\n",
    "\n",
    "#regressor.predict([[100, 100, 150, 22, 5, 1]])"
   ]
  },
  {
   "cell_type": "code",
   "execution_count": 266,
   "metadata": {},
   "outputs": [],
   "source": [
    "#https://towardsdatascience.com/hyperparameter-tuning-the-random-forest-in-python-using-scikit-learn-28d2aa77dd74"
   ]
  },
  {
   "cell_type": "code",
   "execution_count": 267,
   "metadata": {},
   "outputs": [
    {
     "data": {
      "text/plain": [
       "Index(['ScoreMathHighSchool', 'ScoreEnglishHighSchool',\n",
       "       'PositionScoreHighSchool', 'TimeExamvsS11', 'SocialStrataNumber', 'Age',\n",
       "       'DistanceStateLiveProgram', 'StateScore', 'CompetenceCitizenScore',\n",
       "       'CompetenceEnglishScore',\n",
       "       ...\n",
       "       'CompetenceEnglish4Levels_B1', 'CompetenceEnglish4Levels_B2',\n",
       "       'CompetenceReading4Levels_1.0', 'CompetenceReading4Levels_2.0',\n",
       "       'CompetenceReading4Levels_3.0', 'CompetenceReading4Levels_4.0',\n",
       "       'CompetenceQuantitativeReasoning4Levels_1.0',\n",
       "       'CompetenceQuantitativeReasoning4Levels_2.0',\n",
       "       'CompetenceQuantitativeReasoning4Levels_3.0',\n",
       "       'CompetenceQuantitativeReasoning4Levels_4.0'],\n",
       "      dtype='object', length=218)"
      ]
     },
     "execution_count": 267,
     "metadata": {},
     "output_type": "execute_result"
    }
   ],
   "source": [
    "dfModelo2019b.columns"
   ]
  },
  {
   "cell_type": "code",
   "execution_count": 268,
   "metadata": {},
   "outputs": [
    {
     "data": {
      "text/html": [
       "<div>\n",
       "<style scoped>\n",
       "    .dataframe tbody tr th:only-of-type {\n",
       "        vertical-align: middle;\n",
       "    }\n",
       "\n",
       "    .dataframe tbody tr th {\n",
       "        vertical-align: top;\n",
       "    }\n",
       "\n",
       "    .dataframe thead th {\n",
       "        text-align: right;\n",
       "    }\n",
       "</style>\n",
       "<table border=\"1\" class=\"dataframe\">\n",
       "  <thead>\n",
       "    <tr style=\"text-align: right;\">\n",
       "      <th></th>\n",
       "      <th>ScoreMathHighSchool</th>\n",
       "      <th>ScoreEnglishHighSchool</th>\n",
       "      <th>PositionScoreHighSchool</th>\n",
       "      <th>TimeExamvsS11</th>\n",
       "      <th>SocialStrataNumber</th>\n",
       "      <th>Age</th>\n",
       "      <th>DistanceStateLiveProgram</th>\n",
       "      <th>StateScore</th>\n",
       "      <th>CompetenceCitizenScore</th>\n",
       "      <th>CompetenceEnglishScore</th>\n",
       "      <th>...</th>\n",
       "      <th>CompetenceEnglish4Levels_B1</th>\n",
       "      <th>CompetenceEnglish4Levels_B2</th>\n",
       "      <th>CompetenceReading4Levels_1.0</th>\n",
       "      <th>CompetenceReading4Levels_2.0</th>\n",
       "      <th>CompetenceReading4Levels_3.0</th>\n",
       "      <th>CompetenceReading4Levels_4.0</th>\n",
       "      <th>CompetenceQuantitativeReasoning4Levels_1.0</th>\n",
       "      <th>CompetenceQuantitativeReasoning4Levels_2.0</th>\n",
       "      <th>CompetenceQuantitativeReasoning4Levels_3.0</th>\n",
       "      <th>CompetenceQuantitativeReasoning4Levels_4.0</th>\n",
       "    </tr>\n",
       "  </thead>\n",
       "  <tbody>\n",
       "    <tr>\n",
       "      <th>2</th>\n",
       "      <td>47.50</td>\n",
       "      <td>37.38</td>\n",
       "      <td>447.0</td>\n",
       "      <td>11.0</td>\n",
       "      <td>4.0</td>\n",
       "      <td>29.0</td>\n",
       "      <td>0.0</td>\n",
       "      <td>150.313314</td>\n",
       "      <td>112.0</td>\n",
       "      <td>132.0</td>\n",
       "      <td>...</td>\n",
       "      <td>0</td>\n",
       "      <td>0</td>\n",
       "      <td>1</td>\n",
       "      <td>0</td>\n",
       "      <td>0</td>\n",
       "      <td>0</td>\n",
       "      <td>1</td>\n",
       "      <td>0</td>\n",
       "      <td>0</td>\n",
       "      <td>0</td>\n",
       "    </tr>\n",
       "    <tr>\n",
       "      <th>3</th>\n",
       "      <td>22.00</td>\n",
       "      <td>43.00</td>\n",
       "      <td>694.0</td>\n",
       "      <td>6.0</td>\n",
       "      <td>2.0</td>\n",
       "      <td>22.0</td>\n",
       "      <td>0.0</td>\n",
       "      <td>150.313314</td>\n",
       "      <td>108.0</td>\n",
       "      <td>123.0</td>\n",
       "      <td>...</td>\n",
       "      <td>0</td>\n",
       "      <td>0</td>\n",
       "      <td>0</td>\n",
       "      <td>1</td>\n",
       "      <td>0</td>\n",
       "      <td>0</td>\n",
       "      <td>1</td>\n",
       "      <td>0</td>\n",
       "      <td>0</td>\n",
       "      <td>0</td>\n",
       "    </tr>\n",
       "    <tr>\n",
       "      <th>4</th>\n",
       "      <td>60.97</td>\n",
       "      <td>46.06</td>\n",
       "      <td>294.0</td>\n",
       "      <td>11.0</td>\n",
       "      <td>3.0</td>\n",
       "      <td>28.0</td>\n",
       "      <td>0.0</td>\n",
       "      <td>150.313314</td>\n",
       "      <td>132.0</td>\n",
       "      <td>144.0</td>\n",
       "      <td>...</td>\n",
       "      <td>0</td>\n",
       "      <td>0</td>\n",
       "      <td>1</td>\n",
       "      <td>0</td>\n",
       "      <td>0</td>\n",
       "      <td>0</td>\n",
       "      <td>1</td>\n",
       "      <td>0</td>\n",
       "      <td>0</td>\n",
       "      <td>0</td>\n",
       "    </tr>\n",
       "    <tr>\n",
       "      <th>6</th>\n",
       "      <td>42.74</td>\n",
       "      <td>44.34</td>\n",
       "      <td>698.0</td>\n",
       "      <td>10.0</td>\n",
       "      <td>3.0</td>\n",
       "      <td>28.0</td>\n",
       "      <td>0.0</td>\n",
       "      <td>150.313314</td>\n",
       "      <td>139.0</td>\n",
       "      <td>138.0</td>\n",
       "      <td>...</td>\n",
       "      <td>0</td>\n",
       "      <td>0</td>\n",
       "      <td>0</td>\n",
       "      <td>1</td>\n",
       "      <td>0</td>\n",
       "      <td>0</td>\n",
       "      <td>0</td>\n",
       "      <td>1</td>\n",
       "      <td>0</td>\n",
       "      <td>0</td>\n",
       "    </tr>\n",
       "    <tr>\n",
       "      <th>7</th>\n",
       "      <td>48.03</td>\n",
       "      <td>44.34</td>\n",
       "      <td>336.0</td>\n",
       "      <td>10.0</td>\n",
       "      <td>3.0</td>\n",
       "      <td>27.0</td>\n",
       "      <td>0.0</td>\n",
       "      <td>150.313314</td>\n",
       "      <td>146.0</td>\n",
       "      <td>156.0</td>\n",
       "      <td>...</td>\n",
       "      <td>0</td>\n",
       "      <td>0</td>\n",
       "      <td>0</td>\n",
       "      <td>1</td>\n",
       "      <td>0</td>\n",
       "      <td>0</td>\n",
       "      <td>0</td>\n",
       "      <td>1</td>\n",
       "      <td>0</td>\n",
       "      <td>0</td>\n",
       "    </tr>\n",
       "  </tbody>\n",
       "</table>\n",
       "<p>5 rows × 218 columns</p>\n",
       "</div>"
      ],
      "text/plain": [
       "   ScoreMathHighSchool  ScoreEnglishHighSchool  PositionScoreHighSchool  \\\n",
       "2                47.50                   37.38                    447.0   \n",
       "3                22.00                   43.00                    694.0   \n",
       "4                60.97                   46.06                    294.0   \n",
       "6                42.74                   44.34                    698.0   \n",
       "7                48.03                   44.34                    336.0   \n",
       "\n",
       "   TimeExamvsS11  SocialStrataNumber   Age  DistanceStateLiveProgram  \\\n",
       "2           11.0                 4.0  29.0                       0.0   \n",
       "3            6.0                 2.0  22.0                       0.0   \n",
       "4           11.0                 3.0  28.0                       0.0   \n",
       "6           10.0                 3.0  28.0                       0.0   \n",
       "7           10.0                 3.0  27.0                       0.0   \n",
       "\n",
       "   StateScore  CompetenceCitizenScore  CompetenceEnglishScore  ...  \\\n",
       "2  150.313314                   112.0                   132.0  ...   \n",
       "3  150.313314                   108.0                   123.0  ...   \n",
       "4  150.313314                   132.0                   144.0  ...   \n",
       "6  150.313314                   139.0                   138.0  ...   \n",
       "7  150.313314                   146.0                   156.0  ...   \n",
       "\n",
       "   CompetenceEnglish4Levels_B1  CompetenceEnglish4Levels_B2  \\\n",
       "2                            0                            0   \n",
       "3                            0                            0   \n",
       "4                            0                            0   \n",
       "6                            0                            0   \n",
       "7                            0                            0   \n",
       "\n",
       "   CompetenceReading4Levels_1.0  CompetenceReading4Levels_2.0  \\\n",
       "2                             1                             0   \n",
       "3                             0                             1   \n",
       "4                             1                             0   \n",
       "6                             0                             1   \n",
       "7                             0                             1   \n",
       "\n",
       "   CompetenceReading4Levels_3.0  CompetenceReading4Levels_4.0  \\\n",
       "2                             0                             0   \n",
       "3                             0                             0   \n",
       "4                             0                             0   \n",
       "6                             0                             0   \n",
       "7                             0                             0   \n",
       "\n",
       "   CompetenceQuantitativeReasoning4Levels_1.0  \\\n",
       "2                                           1   \n",
       "3                                           1   \n",
       "4                                           1   \n",
       "6                                           0   \n",
       "7                                           0   \n",
       "\n",
       "   CompetenceQuantitativeReasoning4Levels_2.0  \\\n",
       "2                                           0   \n",
       "3                                           0   \n",
       "4                                           0   \n",
       "6                                           1   \n",
       "7                                           1   \n",
       "\n",
       "   CompetenceQuantitativeReasoning4Levels_3.0  \\\n",
       "2                                           0   \n",
       "3                                           0   \n",
       "4                                           0   \n",
       "6                                           0   \n",
       "7                                           0   \n",
       "\n",
       "   CompetenceQuantitativeReasoning4Levels_4.0  \n",
       "2                                           0  \n",
       "3                                           0  \n",
       "4                                           0  \n",
       "6                                           0  \n",
       "7                                           0  \n",
       "\n",
       "[5 rows x 218 columns]"
      ]
     },
     "execution_count": 268,
     "metadata": {},
     "output_type": "execute_result"
    }
   ],
   "source": [
    "dfModelo2019b.head()"
   ]
  },
  {
   "cell_type": "code",
   "execution_count": 269,
   "metadata": {},
   "outputs": [
    {
     "data": {
      "text/plain": [
       "(112804, 218)"
      ]
     },
     "execution_count": 269,
     "metadata": {},
     "output_type": "execute_result"
    }
   ],
   "source": [
    "dfModelo2019b.shape"
   ]
  },
  {
   "cell_type": "markdown",
   "metadata": {},
   "source": [
    "### Modelo Base"
   ]
  },
  {
   "cell_type": "code",
   "execution_count": 333,
   "metadata": {},
   "outputs": [],
   "source": [
    "XM1base=dfModelo2019b[[ \n",
    "                    #'PositionScoreHighSchool',\n",
    "                    #'ScoreMathHighSchool',\n",
    "                    #'QuantitativeReasoningScore3yearsProgram',\n",
    "                    'Age',\n",
    "                    #'TimeExamvsS11',\n",
    "                    'Gender_M',\n",
    "                    'DistanceStateLiveProgram',\n",
    "                    'PaydScholarship_Si',\n",
    "                    'PaydCredit_Si',\n",
    "                    'PaydParents_Si',\n",
    "                    'MotherEducation_1NoBachiller',\n",
    "                    'MotherEducation_3Tecnico',\n",
    "                    'MotherEducation_4Profesional',\n",
    "                    'MotherEducation_5Postgrado',\n",
    "                    'CostUniversiteSemester_1 Menos de 500 mil',\n",
    "                    'CostUniversiteSemester_2 0.5M-4M',\n",
    "                    'CostUniversiteSemester_3 4M-7M',\n",
    "                    'CostUniversiteSemester_4 7+',\n",
    "                    'CostUniversiteSemester_No pago matricula'\n",
    "                    \n",
    "                    \n",
    "                    ]].copy()  # Features\n",
    "\n",
    "yM1base=dfModelo2019a['CompetenceQuantitativeReasoningScore']  # Labels\n",
    "np.random.seed(1337)\n",
    "X_trainM1base, X_testM1base, y_trainM1base, y_testM1base = train_test_split(XM1base, yM1base, test_size=0.3)\n",
    "\n"
   ]
  },
  {
   "cell_type": "code",
   "execution_count": 334,
   "metadata": {},
   "outputs": [
    {
     "data": {
      "text/plain": [
       "(33842, 10)"
      ]
     },
     "execution_count": 334,
     "metadata": {},
     "output_type": "execute_result"
    }
   ],
   "source": [
    "X_testM1base.shape"
   ]
  },
  {
   "cell_type": "code",
   "execution_count": 335,
   "metadata": {},
   "outputs": [
    {
     "name": "stdout",
     "output_type": "stream",
     "text": [
      "Accuracy Train\n",
      "Model Performance\n",
      "Average Error: 6.2796 degrees.\n",
      "Accuracy = 95.52%.\n",
      "Accuracy Test\n",
      "Model Performance\n",
      "Average Error: 16.3490 degrees.\n",
      "Accuracy = 88.28%.\n"
     ]
    }
   ],
   "source": [
    "regressorM1base = RandomForestRegressor(n_estimators = 20, random_state = 0) \n",
    "regressorM1base.fit(X_trainM1, y_trainM1) \n",
    "print('Accuracy Train')\n",
    "AccuracyM1basetrain = evaluate(regressorM1base, X_trainM1, y_trainM1)\n",
    "print('Accuracy Test')\n",
    "AccuracyM1base = evaluate(regressorM1base, X_testM1, y_testM1)"
   ]
  },
  {
   "cell_type": "code",
   "execution_count": null,
   "metadata": {},
   "outputs": [],
   "source": []
  },
  {
   "cell_type": "code",
   "execution_count": null,
   "metadata": {},
   "outputs": [],
   "source": []
  },
  {
   "cell_type": "code",
   "execution_count": null,
   "metadata": {},
   "outputs": [],
   "source": []
  },
  {
   "cell_type": "code",
   "execution_count": null,
   "metadata": {},
   "outputs": [],
   "source": []
  },
  {
   "cell_type": "code",
   "execution_count": null,
   "metadata": {},
   "outputs": [],
   "source": []
  },
  {
   "cell_type": "markdown",
   "metadata": {},
   "source": [
    "### Modelo Razonamiento Cuantitativo"
   ]
  },
  {
   "cell_type": "code",
   "execution_count": 273,
   "metadata": {},
   "outputs": [],
   "source": [
    "XM1=dfModelo2019b[[ \n",
    "                    'PositionScoreHighSchool',\n",
    "                    'ScoreMathHighSchool',\n",
    "                    'QuantitativeReasoningScore3yearsProgram',\n",
    "                    'Age',\n",
    "                    'TimeExamvsS11',\n",
    "                    'Gender_M',\n",
    "                    'DistanceStateLiveProgram',\n",
    "                    'PaydScholarship_Si',\n",
    "                    'PaydCredit_Si',\n",
    "                    'PaydParents_Si',\n",
    "                    'MotherEducation_1NoBachiller',\n",
    "                    'MotherEducation_3Tecnico',\n",
    "                    'MotherEducation_4Profesional',\n",
    "                    'MotherEducation_5Postgrado',\n",
    "                    'CostUniversiteSemester_1 Menos de 500 mil',\n",
    "                    'CostUniversiteSemester_2 0.5M-4M',\n",
    "                    'CostUniversiteSemester_3 4M-7M',\n",
    "                   # 'CostUniversiteSemester_4 7+',\n",
    "                    'CostUniversiteSemester_No pago matricula'\n",
    "                    \n",
    "                    \n",
    "                    ]].copy()  # Features\n",
    "\n",
    "yM1=dfModelo2019a['CompetenceQuantitativeReasoningScore']  # Labels\n",
    "np.random.seed(1337)\n",
    "X_trainM1, X_testM1, y_trainM1, y_testM1 = train_test_split(XM1, yM1, test_size=0.3)\n",
    "\n"
   ]
  },
  {
   "cell_type": "code",
   "execution_count": 274,
   "metadata": {},
   "outputs": [
    {
     "data": {
      "text/plain": [
       "(33842, 18)"
      ]
     },
     "execution_count": 274,
     "metadata": {},
     "output_type": "execute_result"
    }
   ],
   "source": [
    "X_testM1.shape"
   ]
  },
  {
   "cell_type": "code",
   "execution_count": 275,
   "metadata": {},
   "outputs": [
    {
     "name": "stdout",
     "output_type": "stream",
     "text": [
      "Accuracy Train\n",
      "Model Performance\n",
      "Average Error: 6.2796 degrees.\n",
      "Accuracy = 95.52%.\n",
      "Accuracy Test\n",
      "Model Performance\n",
      "Average Error: 16.3490 degrees.\n",
      "Accuracy = 88.28%.\n"
     ]
    }
   ],
   "source": [
    "regressorM1 = RandomForestRegressor(n_estimators = 20, random_state = 0) \n",
    "regressorM1.fit(X_trainM1, y_trainM1) \n",
    "print('Accuracy Train')\n",
    "AccuracyM1train = evaluate(regressorM1, X_trainM1, y_trainM1)\n",
    "print('Accuracy Test')\n",
    "AccuracyM1 = evaluate(regressorM1, X_testM1, y_testM1)"
   ]
  },
  {
   "cell_type": "markdown",
   "metadata": {},
   "source": [
    "### Tunning modelo 1"
   ]
  },
  {
   "cell_type": "code",
   "execution_count": 276,
   "metadata": {},
   "outputs": [
    {
     "name": "stdout",
     "output_type": "stream",
     "text": [
      "{'n_estimators': [20, 22, 24, 26, 28, 31, 33, 35, 37, 40], 'max_features': ['auto', 'sqrt'], 'max_depth': [10, 20, 30, 40, 50, 60, 70, 80, 90, 100, 110, None], 'min_samples_split': [2, 5, 10], 'min_samples_leaf': [1, 2, 4], 'bootstrap': [True, False]}\n"
     ]
    }
   ],
   "source": [
    "#https://towardsdatascience.com/hyperparameter-tuning-the-random-forest-in-python-using-scikit-learn-28d2aa77dd74\n",
    "from sklearn.model_selection import RandomizedSearchCV\n",
    "# Number of trees in random forest\n",
    "n_estimators = [int(x) for x in np.linspace(start = 20, stop = 40, num = 10)]\n",
    "# Number of features to consider at every split\n",
    "max_features = ['auto', 'sqrt']\n",
    "# Maximum number of levels in tree\n",
    "max_depth = [int(x) for x in np.linspace(10, 110, num = 11)]\n",
    "max_depth.append(None)\n",
    "# Minimum number of samples required to split a node\n",
    "min_samples_split = [2, 5, 10]\n",
    "# Minimum number of samples required at each leaf node\n",
    "min_samples_leaf = [1, 2, 4]\n",
    "# Method of selecting samples for training each tree\n",
    "bootstrap = [True, False]\n",
    "# Create the random grid\n",
    "random_grid = {'n_estimators': n_estimators,\n",
    "               'max_features': max_features,\n",
    "               'max_depth': max_depth,\n",
    "               'min_samples_split': min_samples_split,\n",
    "               'min_samples_leaf': min_samples_leaf,\n",
    "               'bootstrap': bootstrap}\n",
    "print(random_grid)"
   ]
  },
  {
   "cell_type": "code",
   "execution_count": 277,
   "metadata": {},
   "outputs": [
    {
     "name": "stdout",
     "output_type": "stream",
     "text": [
      "Fitting 10 folds for each of 50 candidates, totalling 500 fits\n"
     ]
    },
    {
     "name": "stderr",
     "output_type": "stream",
     "text": [
      "[Parallel(n_jobs=-1)]: Using backend LokyBackend with 8 concurrent workers.\n",
      "[Parallel(n_jobs=-1)]: Done  25 tasks      | elapsed:   23.6s\n",
      "[Parallel(n_jobs=-1)]: Done 146 tasks      | elapsed:  3.5min\n",
      "[Parallel(n_jobs=-1)]: Done 349 tasks      | elapsed: 10.1min\n",
      "[Parallel(n_jobs=-1)]: Done 500 out of 500 | elapsed: 13.2min finished\n"
     ]
    },
    {
     "data": {
      "text/plain": [
       "RandomizedSearchCV(cv=10, error_score=nan,\n",
       "                   estimator=RandomForestRegressor(bootstrap=True,\n",
       "                                                   ccp_alpha=0.0,\n",
       "                                                   criterion='mse',\n",
       "                                                   max_depth=None,\n",
       "                                                   max_features='auto',\n",
       "                                                   max_leaf_nodes=None,\n",
       "                                                   max_samples=None,\n",
       "                                                   min_impurity_decrease=0.0,\n",
       "                                                   min_impurity_split=None,\n",
       "                                                   min_samples_leaf=1,\n",
       "                                                   min_samples_split=2,\n",
       "                                                   min_weight_fraction_leaf=0.0,\n",
       "                                                   n_estimators=100,\n",
       "                                                   n_jobs=None, oob_score=Fal...\n",
       "                   iid='deprecated', n_iter=50, n_jobs=-1,\n",
       "                   param_distributions={'bootstrap': [True, False],\n",
       "                                        'max_depth': [10, 20, 30, 40, 50, 60,\n",
       "                                                      70, 80, 90, 100, 110,\n",
       "                                                      None],\n",
       "                                        'max_features': ['auto', 'sqrt'],\n",
       "                                        'min_samples_leaf': [1, 2, 4],\n",
       "                                        'min_samples_split': [2, 5, 10],\n",
       "                                        'n_estimators': [20, 22, 24, 26, 28, 31,\n",
       "                                                         33, 35, 37, 40]},\n",
       "                   pre_dispatch='2*n_jobs', random_state=42, refit=True,\n",
       "                   return_train_score=False, scoring=None, verbose=2)"
      ]
     },
     "execution_count": 277,
     "metadata": {},
     "output_type": "execute_result"
    }
   ],
   "source": [
    "# Use the random grid to search for best hyperparameters\n",
    "# First create the base model to tune\n",
    "rfM1 = RandomForestRegressor()\n",
    "# Random search of parameters, using 3 fold cross validation, \n",
    "# search across 100 different combinations, and use all available cores\n",
    "rf_randomM1 = RandomizedSearchCV(estimator = rfM1, param_distributions = random_grid, n_iter = 50, cv = 10, verbose=2, random_state=42, n_jobs = -1)\n",
    "# Fit the random search model\n",
    "rf_randomM1.fit(X_trainM1, y_trainM1)"
   ]
  },
  {
   "cell_type": "code",
   "execution_count": 278,
   "metadata": {},
   "outputs": [
    {
     "data": {
      "text/plain": [
       "{'n_estimators': 37,\n",
       " 'min_samples_split': 10,\n",
       " 'min_samples_leaf': 1,\n",
       " 'max_features': 'sqrt',\n",
       " 'max_depth': 30,\n",
       " 'bootstrap': False}"
      ]
     },
     "execution_count": 278,
     "metadata": {},
     "output_type": "execute_result"
    }
   ],
   "source": [
    "rf_randomM1.best_params_\n"
   ]
  },
  {
   "cell_type": "code",
   "execution_count": 279,
   "metadata": {},
   "outputs": [
    {
     "name": "stdout",
     "output_type": "stream",
     "text": [
      "Accuracy Train\n",
      "Model Performance\n",
      "Average Error: 8.9190 degrees.\n",
      "Accuracy = 93.61%.\n",
      "Accuracy Test\n",
      "Model Performance\n",
      "Average Error: 15.8608 degrees.\n",
      "Accuracy = 88.56%.\n"
     ]
    }
   ],
   "source": [
    "\n",
    "print('Accuracy Train')\n",
    "AccuracyRFM1 = evaluate(rf_randomM1, X_trainM1, y_trainM1)\n",
    "print('Accuracy Test')\n",
    "AccuracyRFM1 = evaluate(rf_randomM1, X_testM1, y_testM1)"
   ]
  },
  {
   "cell_type": "code",
   "execution_count": 280,
   "metadata": {},
   "outputs": [
    {
     "name": "stdout",
     "output_type": "stream",
     "text": [
      "Improvement of 0.32%.\n"
     ]
    }
   ],
   "source": [
    "print('Improvement of {:0.2f}%.'.format( 100 * (AccuracyRFM1 - AccuracyM1) / AccuracyM1))"
   ]
  },
  {
   "cell_type": "code",
   "execution_count": 281,
   "metadata": {},
   "outputs": [
    {
     "name": "stdout",
     "output_type": "stream",
     "text": [
      "Accuracy Train\n",
      "Model Performance\n",
      "Average Error: 8.9500 degrees.\n",
      "Accuracy = 93.58%.\n",
      "Accuracy Test\n",
      "Model Performance\n",
      "Average Error: 15.9050 degrees.\n",
      "Accuracy = 88.53%.\n"
     ]
    }
   ],
   "source": [
    "regressorM1 = RandomForestRegressor(n_estimators = 37, criterion='mse',max_depth=30,min_samples_split=10,min_samples_leaf=1,max_features='sqrt',bootstrap=False, random_state = 0) \n",
    "regressorM1.fit(X_trainM1, y_trainM1) \n",
    "print('Accuracy Train')\n",
    "AccuracyM1train = evaluate(regressorM1, X_trainM1, y_trainM1)\n",
    "print('Accuracy Test')\n",
    "AccuracyM1 = evaluate(regressorM1, X_testM1, y_testM1)"
   ]
  },
  {
   "cell_type": "markdown",
   "metadata": {},
   "source": [
    "## Importance variables"
   ]
  },
  {
   "cell_type": "code",
   "execution_count": 282,
   "metadata": {},
   "outputs": [
    {
     "data": {
      "text/plain": [
       "PositionScoreHighSchool                      0.355379\n",
       "ScoreMathHighSchool                          0.242530\n",
       "QuantitativeReasoningScore3yearsProgram      0.206151\n",
       "Age                                          0.037741\n",
       "Gender_M                                     0.029468\n",
       "TimeExamvsS11                                0.024690\n",
       "CostUniversiteSemester_2 0.5M-4M             0.023258\n",
       "DistanceStateLiveProgram                     0.018201\n",
       "PaydScholarship_Si                           0.009110\n",
       "PaydCredit_Si                                0.008566\n",
       "PaydParents_Si                               0.007817\n",
       "MotherEducation_1NoBachiller                 0.007060\n",
       "MotherEducation_3Tecnico                     0.006377\n",
       "MotherEducation_4Profesional                 0.006344\n",
       "MotherEducation_5Postgrado                   0.005913\n",
       "CostUniversiteSemester_3 4M-7M               0.005141\n",
       "CostUniversiteSemester_1 Menos de 500 mil    0.004547\n",
       "CostUniversiteSemester_No pago matricula     0.001709\n",
       "dtype: float64"
      ]
     },
     "execution_count": 282,
     "metadata": {},
     "output_type": "execute_result"
    }
   ],
   "source": [
    "feature_impM1 = pd.Series(regressorM1.feature_importances_, index=X_trainM1.columns).sort_values(ascending=False)\n",
    "fiM1=feature_impM1.head(50)\n",
    "fiM1"
   ]
  },
  {
   "cell_type": "code",
   "execution_count": 283,
   "metadata": {
    "scrolled": true
   },
   "outputs": [
    {
     "name": "stderr",
     "output_type": "stream",
     "text": [
      "No handles with labels found to put in legend.\n"
     ]
    },
    {
     "data": {
      "image/png": "[encoded data removed]",
      "text/plain": [
       "<Figure size 1152x648 with 1 Axes>"
      ]
     },
     "metadata": {},
     "output_type": "display_data"
    }
   ],
   "source": [
    "# Creating a bar plot\n",
    "sns.barplot(x=fiM1, y=fiM1.index)\n",
    "# Add labels to your graph\n",
    "plt.xlabel('Feature Importance Score')\n",
    "plt.ylabel('Features')\n",
    "plt.title(\"Visualizing Important Features for Quantitative Reasoning\")\n",
    "plt.legend()\n",
    "plt.show()"
   ]
  },
  {
   "cell_type": "code",
   "execution_count": null,
   "metadata": {},
   "outputs": [],
   "source": []
  },
  {
   "cell_type": "markdown",
   "metadata": {},
   "source": [
    "### Modelo English"
   ]
  },
  {
   "cell_type": "code",
   "execution_count": 284,
   "metadata": {},
   "outputs": [],
   "source": [
    "XM2=dfModelo2019b[[ \n",
    "                    'PositionScoreHighSchool',\n",
    "                    'ScoreEnglishHighSchool',\n",
    "                    'EnglishScore3yearsProgram',\n",
    "                    'Age',\n",
    "                    'TimeExamvsS11',\n",
    "                    'Gender_M',\n",
    "                    'DistanceStateLiveProgram',\n",
    "                    'PaydScholarship_Si',\n",
    "                    'PaydCredit_Si',\n",
    "                    'PaydParents_Si',\n",
    "                    'MotherEducation_1NoBachiller',\n",
    "                    'MotherEducation_3Tecnico',\n",
    "                    'MotherEducation_4Profesional',\n",
    "                    'MotherEducation_5Postgrado',\n",
    "                    'ClusterState_1.0',\n",
    "                    'ClusterState_2.0',\n",
    "                    'ClusterState_3.0',\n",
    "                    'ClusterState_4.0'\n",
    "                    \n",
    "                    #'CostUniversiteSemester_1 Menos de 500 mil',\n",
    "                    #'CostUniversiteSemester_2 0.5M-4M',\n",
    "                   # 'CostUniversiteSemester_3 4M-7M',\n",
    "                   # 'CostUniversiteSemester_4 7+',\n",
    "                    #'CostUniversiteSemester_No pago matricula'\n",
    "                    \n",
    "                    ]].copy()  # Features\n",
    "\n",
    "yM2=dfModelo2019a['CompetenceEnglishScore']  # Labels\n",
    "np.random.seed(1337)\n",
    "X_trainM2, X_testM2, y_trainM2, y_testM2 = train_test_split(XM2, yM2, test_size=0.3)\n",
    "\n"
   ]
  },
  {
   "cell_type": "code",
   "execution_count": 285,
   "metadata": {},
   "outputs": [
    {
     "name": "stdout",
     "output_type": "stream",
     "text": [
      "Accuracy Train\n",
      "Model Performance\n",
      "Average Error: 5.2111 degrees.\n",
      "Accuracy = 96.49%.\n",
      "Accuracy Test\n",
      "Model Performance\n",
      "Average Error: 13.5176 degrees.\n",
      "Accuracy = 90.93%.\n"
     ]
    }
   ],
   "source": [
    "regressorM2 = RandomForestRegressor(n_estimators = 20, random_state = 0) \n",
    "regressorM2.fit(X_trainM2, y_trainM2) \n",
    "print('Accuracy Train')\n",
    "AccuracyM2train = evaluate(regressorM2, X_trainM2, y_trainM2)\n",
    "print('Accuracy Test')\n",
    "AccuracyM2 = evaluate(regressorM2, X_testM2, y_testM2)\n"
   ]
  },
  {
   "cell_type": "code",
   "execution_count": 286,
   "metadata": {},
   "outputs": [
    {
     "name": "stdout",
     "output_type": "stream",
     "text": [
      "Model Performance\n",
      "Average Error: 5.2111 degrees.\n",
      "Accuracy = 96.49%.\n"
     ]
    }
   ],
   "source": [
    "AccuracyM2train = evaluate(regressorM2, X_trainM2, y_trainM2)"
   ]
  },
  {
   "cell_type": "code",
   "execution_count": 287,
   "metadata": {},
   "outputs": [
    {
     "data": {
      "text/plain": [
       "2    132.0\n",
       "3    123.0\n",
       "4    144.0\n",
       "6    138.0\n",
       "7    156.0\n",
       "Name: CompetenceEnglishScore, dtype: float64"
      ]
     },
     "execution_count": 287,
     "metadata": {},
     "output_type": "execute_result"
    }
   ],
   "source": [
    "yM2.head()"
   ]
  },
  {
   "cell_type": "code",
   "execution_count": 288,
   "metadata": {},
   "outputs": [
    {
     "name": "stdout",
     "output_type": "stream",
     "text": [
      "Accuracy: 0.6488387211157733\n"
     ]
    }
   ],
   "source": [
    "#Import Random Forest Model\n",
    "yM2a=dfModelo2019a['CompetenceEnglish4Levels']  # Labels\n",
    "np.random.seed(1337)\n",
    "X_trainM2a, X_testM2a, y_trainM2a, y_testM2a = train_test_split(XM2, yM2a, test_size=0.3)\n",
    "\n",
    "from sklearn.ensemble import RandomForestClassifier\n",
    "\n",
    "#Create a Gaussian Classifier\n",
    "clf=RandomForestClassifier(n_estimators=100)\n",
    "\n",
    "#Train the model using the training sets y_pred=clf.predict(X_test)\n",
    "clf.fit(X_trainM2a,y_trainM2a)\n",
    "\n",
    "y_predM2a=clf.predict(X_testM2a)\n",
    "print(\"Accuracy:\",metrics.accuracy_score(y_testM2a, y_predM2a))"
   ]
  },
  {
   "cell_type": "code",
   "execution_count": 289,
   "metadata": {},
   "outputs": [
    {
     "data": {
      "text/plain": [
       "ScoreEnglishHighSchool       0.574439\n",
       "PositionScoreHighSchool      0.161444\n",
       "EnglishScore3yearsProgram    0.097065\n",
       "Age                          0.037208\n",
       "TimeExamvsS11                0.025466\n",
       "DistanceStateLiveProgram     0.013452\n",
       "Gender_M                     0.011489\n",
       "dtype: float64"
      ]
     },
     "execution_count": 289,
     "metadata": {},
     "output_type": "execute_result"
    }
   ],
   "source": [
    "feature_impM2 = pd.Series(regressorM2.feature_importances_, index=X_trainM2.columns).sort_values(ascending=False)\n",
    "fiM2=feature_impM2.head(7)\n",
    "fiM2"
   ]
  },
  {
   "cell_type": "code",
   "execution_count": 290,
   "metadata": {
    "scrolled": true
   },
   "outputs": [
    {
     "name": "stderr",
     "output_type": "stream",
     "text": [
      "No handles with labels found to put in legend.\n"
     ]
    },
    {
     "data": {
      "image/png": "[encoded data removed]",
      "text/plain": [
       "<Figure size 1152x648 with 1 Axes>"
      ]
     },
     "metadata": {},
     "output_type": "display_data"
    }
   ],
   "source": [
    "# Creating a bar plot\n",
    "sns.barplot(x=fiM2, y=fiM2.index)\n",
    "# Add labels to your graph\n",
    "plt.xlabel('Feature Importance Score')\n",
    "plt.ylabel('Features')\n",
    "plt.title(\"Visualizing Important Features for ENGLISH\")\n",
    "plt.legend()\n",
    "plt.show()"
   ]
  },
  {
   "cell_type": "code",
   "execution_count": null,
   "metadata": {},
   "outputs": [],
   "source": []
  },
  {
   "cell_type": "code",
   "execution_count": null,
   "metadata": {},
   "outputs": [],
   "source": []
  },
  {
   "cell_type": "markdown",
   "metadata": {},
   "source": [
    "### Modelo Reading"
   ]
  },
  {
   "cell_type": "code",
   "execution_count": 336,
   "metadata": {},
   "outputs": [],
   "source": [
    "XM3=dfModelo2019b[[ \n",
    "                    'PositionScoreHighSchool',\n",
    "                    'ScoreMathHighSchool',\n",
    "                    'ReadingScore3yearsProgram',\n",
    "                    'Age',\n",
    "                    'TimeExamvsS11',\n",
    "                    'Gender_M',\n",
    "                    #'HighSchoolBilingual_S',\n",
    "                    'DistanceStateLiveProgram',\n",
    "                    'PaydScholarship_Si',\n",
    "                    'PaydCredit_Si',\n",
    "                    'PaydParents_Si',\n",
    "                    'MotherEducation_1NoBachiller',\n",
    "                    'MotherEducation_3Tecnico',\n",
    "                    'MotherEducation_4Profesional',\n",
    "                    'MotherEducation_5Postgrado',\n",
    "                    'CostUniversiteSemester_1 Menos de 500 mil',\n",
    "                    'CostUniversiteSemester_2 0.5M-4M',\n",
    "                   'CostUniversiteSemester_3 4M-7M',\n",
    "                    'CostUniversiteSemester_No pago matricula'\n",
    "                    \n",
    "                    ]].copy()  # Features\n",
    "\n",
    "yM3=dfModelo2019a['CompetenceReadingScore']  # Labels\n",
    "np.random.seed(1337)\n",
    "X_trainM3, X_testM3, y_trainM3, y_testM3 = train_test_split(XM3, yM3, test_size=0.3)\n",
    "\n"
   ]
  },
  {
   "cell_type": "code",
   "execution_count": 337,
   "metadata": {},
   "outputs": [
    {
     "name": "stdout",
     "output_type": "stream",
     "text": [
      "Accuracy Train\n",
      "Model Performance\n",
      "Average Error: 17.3624 degrees.\n",
      "Accuracy = 87.78%.\n",
      "Accuracy Test\n",
      "Model Performance\n",
      "Average Error: 17.3624 degrees.\n",
      "Accuracy = 87.78%.\n"
     ]
    }
   ],
   "source": [
    "regressorM3 = RandomForestRegressor(n_estimators = 20, random_state = 0) \n",
    "regressorM3.fit(X_trainM3, y_trainM3) \n",
    "print('Accuracy Train')\n",
    "AccuracyM3 = evaluate(regressorM3, X_testM3, y_testM3)\n",
    "print('Accuracy Test')\n",
    "AccuracyM3 = evaluate(regressorM3, X_testM3, y_testM3)\n"
   ]
  },
  {
   "cell_type": "code",
   "execution_count": 338,
   "metadata": {},
   "outputs": [
    {
     "data": {
      "text/plain": [
       "PositionScoreHighSchool      0.546755\n",
       "ReadingScore3yearsProgram    0.112633\n",
       "ScoreMathHighSchool          0.101924\n",
       "Age                          0.050452\n",
       "TimeExamvsS11                0.028122\n",
       "DistanceStateLiveProgram     0.020885\n",
       "PaydCredit_Si                0.016278\n",
       "dtype: float64"
      ]
     },
     "execution_count": 338,
     "metadata": {},
     "output_type": "execute_result"
    }
   ],
   "source": [
    "feature_impM3 = pd.Series(regressorM3.feature_importances_, index=X_trainM3.columns).sort_values(ascending=False)\n",
    "fiM3=feature_impM3.head(7)\n",
    "fiM3"
   ]
  },
  {
   "cell_type": "code",
   "execution_count": 339,
   "metadata": {
    "scrolled": true
   },
   "outputs": [
    {
     "name": "stderr",
     "output_type": "stream",
     "text": [
      "No handles with labels found to put in legend.\n"
     ]
    },
    {
     "data": {
      "image/png": "[encoded data removed]",
      "text/plain": [
       "<Figure size 432x288 with 1 Axes>"
      ]
     },
     "metadata": {},
     "output_type": "display_data"
    }
   ],
   "source": [
    "# Creating a bar plot\n",
    "sns.barplot(x=fiM3, y=fiM3.index)\n",
    "# Add labels to your graph\n",
    "plt.xlabel('Feature Importance Score')\n",
    "plt.ylabel('Features')\n",
    "plt.title(\"Visualizing Important Features for Reading\")\n",
    "plt.legend()\n",
    "plt.show()"
   ]
  },
  {
   "cell_type": "code",
   "execution_count": null,
   "metadata": {},
   "outputs": [],
   "source": []
  },
  {
   "cell_type": "markdown",
   "metadata": {},
   "source": [
    "### Modelo Citizen"
   ]
  },
  {
   "cell_type": "code",
   "execution_count": 341,
   "metadata": {},
   "outputs": [],
   "source": [
    "XM4=dfModelo2019b[[ \n",
    "                    'PositionScoreHighSchool',\n",
    "                    'ScoreMathHighSchool',\n",
    "                    'CitizenScore3yearsProgram',\n",
    "                    'Age',\n",
    "                    'TimeExamvsS11',\n",
    "                    'Gender_M',\n",
    "                    #'HighSchoolBilingual_S',\n",
    "                    'DistanceStateLiveProgram',\n",
    "                    'PaydScholarship_Si',\n",
    "                    'PaydCredit_Si',\n",
    "                    'PaydParents_Si',\n",
    "                    'MotherEducation_1NoBachiller',\n",
    "                    'MotherEducation_3Tecnico',\n",
    "                    'MotherEducation_4Profesional',\n",
    "                    'MotherEducation_5Postgrado',\n",
    "    \n",
    "                    'ClusterState_1.0',\n",
    "                    'ClusterState_2.0',\n",
    "                    'ClusterState_3.0',\n",
    "                    'ClusterState_4.0',\n",
    "    \n",
    "                    'CostUniversiteSemester_1 Menos de 500 mil',\n",
    "                    'CostUniversiteSemester_2 0.5M-4M',\n",
    "                   #'CostUniversiteSemester_3 4M-7M',\n",
    "                   'CostUniversiteSemester_4 7+',\n",
    "                    'CostUniversiteSemester_No pago matricula'\n",
    "                    \n",
    "                    ]].copy()  # Features\n",
    "\n",
    "yM4=dfModelo2019a['CompetenceCitizenScore']  # Labels\n",
    "np.random.seed(1337)\n",
    "X_trainM4, X_testM4, y_trainM4, y_testM4 = train_test_split(XM4, yM4, test_size=0.3)\n",
    "\n"
   ]
  },
  {
   "cell_type": "code",
   "execution_count": 342,
   "metadata": {},
   "outputs": [
    {
     "name": "stdout",
     "output_type": "stream",
     "text": [
      "Accuracy Train\n",
      "Model Performance\n",
      "Average Error: 19.7706 degrees.\n",
      "Accuracy = 85.09%.\n",
      "Accuracy Test\n",
      "Model Performance\n",
      "Average Error: 19.7706 degrees.\n",
      "Accuracy = 85.09%.\n"
     ]
    }
   ],
   "source": [
    "regressorM4 = RandomForestRegressor(n_estimators = 20, random_state = 0) \n",
    "regressorM4.fit(X_trainM4, y_trainM4) \n",
    "print('Accuracy Train')\n",
    "AccuracyM4 = evaluate(regressorM4, X_testM4, y_testM4)\n",
    "print('Accuracy Test')\n",
    "AccuracyM4 = evaluate(regressorM4, X_testM4, y_testM4)"
   ]
  },
  {
   "cell_type": "code",
   "execution_count": 343,
   "metadata": {},
   "outputs": [
    {
     "data": {
      "text/plain": [
       "PositionScoreHighSchool      0.488396\n",
       "CitizenScore3yearsProgram    0.130646\n",
       "ScoreMathHighSchool          0.105289\n",
       "Age                          0.051148\n",
       "TimeExamvsS11                0.028259\n",
       "DistanceStateLiveProgram     0.019892\n",
       "PaydCredit_Si                0.016850\n",
       "dtype: float64"
      ]
     },
     "execution_count": 343,
     "metadata": {},
     "output_type": "execute_result"
    }
   ],
   "source": [
    "feature_impM4 = pd.Series(regressorM4.feature_importances_, index=X_trainM4.columns).sort_values(ascending=False)\n",
    "fiM4=feature_impM4.head(7)\n",
    "fiM4"
   ]
  },
  {
   "cell_type": "code",
   "execution_count": 344,
   "metadata": {
    "scrolled": true
   },
   "outputs": [
    {
     "name": "stderr",
     "output_type": "stream",
     "text": [
      "No handles with labels found to put in legend.\n"
     ]
    },
    {
     "data": {
      "image/png": "[encoded data removed]",
      "text/plain": [
       "<Figure size 432x288 with 1 Axes>"
      ]
     },
     "metadata": {},
     "output_type": "display_data"
    }
   ],
   "source": [
    "# Creating a bar plot\n",
    "sns.barplot(x=fiM4, y=fiM4.index)\n",
    "# Add labels to your graph\n",
    "plt.xlabel('Feature Importance Score')\n",
    "plt.ylabel('Features')\n",
    "plt.title(\"Visualizing Important Features for Citizen Competence\")\n",
    "plt.legend()\n",
    "plt.show()"
   ]
  },
  {
   "cell_type": "code",
   "execution_count": null,
   "metadata": {},
   "outputs": [],
   "source": []
  },
  {
   "cell_type": "markdown",
   "metadata": {},
   "source": [
    "### Modelo Global Score"
   ]
  },
  {
   "cell_type": "code",
   "execution_count": 350,
   "metadata": {},
   "outputs": [],
   "source": [
    "XM5=dfModelo2019b[[ \n",
    "                    'PositionScoreHighSchool',\n",
    "                    'ScoreMathHighSchool',\n",
    "                    'CitizenScore3yearsProgram',\n",
    "                    'Age',\n",
    "                    'TimeExamvsS11',\n",
    "                    'Gender_M',\n",
    "                    \n",
    "                    'DistanceStateLiveProgram',\n",
    "                    'PaydScholarship_Si',\n",
    "                    'PaydCredit_Si',\n",
    "                    'PaydParents_Si',\n",
    "                    'MotherEducation_1NoBachiller',\n",
    "                    'MotherEducation_3Tecnico',\n",
    "                    'MotherEducation_4Profesional',\n",
    "                    'MotherEducation_5Postgrado',\n",
    "    \n",
    "                    'ClusterState_1.0',\n",
    "                    'ClusterState_2.0',\n",
    "                    'ClusterState_3.0',\n",
    "                    'ClusterState_4.0',\n",
    "    \n",
    "                    'CostUniversiteSemester_1 Menos de 500 mil',\n",
    "                    'CostUniversiteSemester_2 0.5M-4M',\n",
    "                   'CostUniversiteSemester_3 4M-7M',\n",
    "                   \n",
    "                    'CostUniversiteSemester_No pago matricula'\n",
    "                    \n",
    "                    ]].copy()  # Features\n",
    "\n",
    "yM5=dfModelo2019a['GlobalScore']  # Labels\n",
    "np.random.seed(1337)\n",
    "X_trainM5, X_testM5, y_trainM5, y_testM5 = train_test_split(XM5, yM5, test_size=0.3)\n",
    "\n"
   ]
  },
  {
   "cell_type": "code",
   "execution_count": 351,
   "metadata": {},
   "outputs": [
    {
     "name": "stdout",
     "output_type": "stream",
     "text": [
      "Accuracy Train\n",
      "Model Performance\n",
      "Average Error: 10.1944 degrees.\n",
      "Accuracy = 93.16%.\n",
      "Accuracy Test\n",
      "Model Performance\n",
      "Average Error: 10.1944 degrees.\n",
      "Accuracy = 93.16%.\n"
     ]
    }
   ],
   "source": [
    "regressorM5 = RandomForestRegressor(n_estimators = 20, random_state = 0) \n",
    "regressorM5.fit(X_trainM5, y_trainM5) \n",
    "print('Accuracy Train')\n",
    "AccuracyM5 = evaluate(regressorM5, X_testM5, y_testM5)\n",
    "print('Accuracy Test')\n",
    "AccuracyM5 = evaluate(regressorM5, X_testM5, y_testM5)"
   ]
  },
  {
   "cell_type": "code",
   "execution_count": 352,
   "metadata": {},
   "outputs": [
    {
     "data": {
      "text/plain": [
       "PositionScoreHighSchool      0.687297\n",
       "CitizenScore3yearsProgram    0.072346\n",
       "ScoreMathHighSchool          0.069753\n",
       "Age                          0.035355\n",
       "TimeExamvsS11                0.019644\n",
       "DistanceStateLiveProgram     0.012178\n",
       "Gender_M                     0.010484\n",
       "dtype: float64"
      ]
     },
     "execution_count": 352,
     "metadata": {},
     "output_type": "execute_result"
    }
   ],
   "source": [
    "feature_impM5 = pd.Series(regressorM5.feature_importances_, index=X_trainM5.columns).sort_values(ascending=False)\n",
    "fiM5=feature_impM5.head(7)\n",
    "fiM5"
   ]
  },
  {
   "cell_type": "code",
   "execution_count": 353,
   "metadata": {
    "scrolled": false
   },
   "outputs": [
    {
     "name": "stderr",
     "output_type": "stream",
     "text": [
      "No handles with labels found to put in legend.\n"
     ]
    },
    {
     "data": {
      "image/png": "[encoded data removed]",
      "text/plain": [
       "<Figure size 432x288 with 1 Axes>"
      ]
     },
     "metadata": {},
     "output_type": "display_data"
    }
   ],
   "source": [
    "# Creating a bar plot\n",
    "sns.barplot(x=fiM5, y=fiM5.index)\n",
    "# Add labels to your graph\n",
    "plt.xlabel('Feature Importance Score')\n",
    "plt.ylabel('Features')\n",
    "plt.title(\"Visualizing Important Features for Global Score\")\n",
    "plt.legend()\n",
    "plt.show()"
   ]
  },
  {
   "cell_type": "code",
   "execution_count": null,
   "metadata": {},
   "outputs": [],
   "source": []
  },
  {
   "cell_type": "markdown",
   "metadata": {},
   "source": [
    "### Modelo Comunication Score"
   ]
  },
  {
   "cell_type": "code",
   "execution_count": 356,
   "metadata": {},
   "outputs": [],
   "source": [
    "XM6=dfModelo2019b[[ \n",
    "                    'PositionScoreHighSchool',\n",
    "                    'ScoreMathHighSchool',\n",
    "                    'ComunicationScore3yearsProgram',\n",
    "                    'Age',\n",
    "                    'TimeExamvsS11',\n",
    "                    'Gender_M',\n",
    "                    #'HighSchoolBilingual_S',\n",
    "                    'DistanceStateLiveProgram',\n",
    "                    'PaydScholarship_Si',\n",
    "                    'PaydCredit_Si',\n",
    "                    'PaydParents_Si',\n",
    "                    'MotherEducation_1NoBachiller',\n",
    "                    'MotherEducation_3Tecnico',\n",
    "                    'MotherEducation_4Profesional',\n",
    "                    'MotherEducation_5Postgrado',\n",
    "    \n",
    "                    'ClusterState_1.0',\n",
    "                    'ClusterState_2.0',\n",
    "                    'ClusterState_3.0',\n",
    "                    'ClusterState_4.0'\n",
    "                    \n",
    "                    ]].copy()  # Features\n",
    "\n",
    "yM6=dfModelo2019a['CompetenceComunicationScore']  # Labels\n",
    "np.random.seed(1337)\n",
    "X_trainM6, X_testM6, y_trainM6, y_testM6 = train_test_split(XM6, yM6, test_size=0.3)\n",
    "\n"
   ]
  },
  {
   "cell_type": "code",
   "execution_count": 357,
   "metadata": {},
   "outputs": [
    {
     "name": "stdout",
     "output_type": "stream",
     "text": [
      "Accuracy Train\n",
      "Model Performance\n",
      "Average Error: 20.7713 degrees.\n",
      "Accuracy = 85.62%.\n",
      "Accuracy Test\n",
      "Model Performance\n",
      "Average Error: 20.7713 degrees.\n",
      "Accuracy = 85.62%.\n"
     ]
    }
   ],
   "source": [
    "regressorM6 = RandomForestRegressor(n_estimators = 20, random_state = 0) \n",
    "regressorM6.fit(X_trainM6, y_trainM6) \n",
    "print('Accuracy Train')\n",
    "AccuracyM6 = evaluate(regressorM6, X_testM6, y_testM6)\n",
    "print('Accuracy Test')\n",
    "AccuracyM6 = evaluate(regressorM6, X_testM6, y_testM6)"
   ]
  },
  {
   "cell_type": "code",
   "execution_count": 358,
   "metadata": {},
   "outputs": [
    {
     "data": {
      "text/plain": [
       "PositionScoreHighSchool           0.284755\n",
       "ScoreMathHighSchool               0.171305\n",
       "ComunicationScore3yearsProgram    0.170251\n",
       "Age                               0.082793\n",
       "TimeExamvsS11                     0.042455\n",
       "DistanceStateLiveProgram          0.030610\n",
       "PaydCredit_Si                     0.028452\n",
       "dtype: float64"
      ]
     },
     "execution_count": 358,
     "metadata": {},
     "output_type": "execute_result"
    }
   ],
   "source": [
    "feature_impM6 = pd.Series(regressorM6.feature_importances_, index=X_trainM6.columns).sort_values(ascending=False)\n",
    "fiM6=feature_impM6.head(7)\n",
    "fiM6"
   ]
  },
  {
   "cell_type": "code",
   "execution_count": 359,
   "metadata": {
    "scrolled": true
   },
   "outputs": [
    {
     "name": "stderr",
     "output_type": "stream",
     "text": [
      "No handles with labels found to put in legend.\n"
     ]
    },
    {
     "data": {
      "image/png": "[encoded data removed]",
      "text/plain": [
       "<Figure size 432x288 with 1 Axes>"
      ]
     },
     "metadata": {},
     "output_type": "display_data"
    }
   ],
   "source": [
    "# Creating a bar plot\n",
    "sns.barplot(x=fiM6, y=fiM6.index)\n",
    "# Add labels to your graph\n",
    "plt.xlabel('Feature Importance Score')\n",
    "plt.ylabel('Features')\n",
    "plt.title(\"Visualizing Important Features for Written Communication Score\")\n",
    "plt.legend()\n",
    "plt.show()"
   ]
  },
  {
   "cell_type": "code",
   "execution_count": null,
   "metadata": {},
   "outputs": [],
   "source": []
  },
  {
   "cell_type": "markdown",
   "metadata": {},
   "source": [
    "## GBM"
   ]
  },
  {
   "cell_type": "code",
   "execution_count": 307,
   "metadata": {},
   "outputs": [],
   "source": [
    "import numpy as np # linear algebra\n",
    "import pandas as pd # data processing, CSV file I/O (e.g. pd.read_csv)\n",
    "import xgboost\n",
    "import csv as csv\n",
    "from xgboost import plot_importance\n",
    "from matplotlib import pyplot\n",
    "#from sklearn.model_selection import cross_val_score, KFold\n",
    "#from sklearn.cross_validation import  train_test_split\n",
    "from sklearn.metrics import mean_absolute_error\n",
    "import matplotlib.pyplot as plt\n",
    "#from sklearn.grid_search import GridSearchCV   #Perforing grid search\n",
    "from scipy.stats import skew\n",
    "from collections import OrderedDict\n",
    "from xgboost import XGBClassifier\n",
    "import numpy as np\n",
    "from xgboost import XGBRegressor\n",
    "from sklearn.model_selection import train_test_split\n",
    "from sklearn.metrics import accuracy_score\n",
    "from numpy import column_stack\n",
    "from sklearn.preprocessing import OneHotEncoder\n",
    "from sklearn.preprocessing import LabelEncoder\n",
    "### Load relevant packages\n",
    "import pandas                  as pd\n",
    "import numpy                   as np\n",
    "import matplotlib.pyplot       as plt\n",
    "import seaborn                 as sns\n",
    "import statsmodels.formula.api as smf\n",
    "import statsmodels.api         as sm\n",
    "import scipy\n",
    "\n",
    "%matplotlib inline\n",
    "plt.style.use('ggplot')\n",
    "from pandas.plotting import register_matplotlib_converters\n",
    "register_matplotlib_converters()\n",
    "from io import StringIO\n",
    "from IPython.display import Image, SVG\n",
    "from graphviz import Source\n",
    "from matplotlib import cm\n",
    "from matplotlib.colors import ListedColormap, LinearSegmentedColormap\n",
    "from matplotlib.patches import Patch\n",
    "from scipy.stats import chi2_contingency, norm\n",
    "from sklearn.tree import export_graphviz\n",
    "from sklearn import tree\n",
    "from sklearn.tree import DecisionTreeClassifier\n",
    "from sklearn.ensemble import RandomForestClassifier\n",
    "from sklearn.metrics import roc_curve, auc, accuracy_score\n",
    "from sklearn.model_selection import StratifiedKFold, train_test_split\n",
    "from statsmodels.formula.api import ols\n",
    "from sympy import var, plot_implicit, Eq\n",
    "\n",
    "# ignore log(0) and divide by 0 warning\n",
    "np.seterr(divide='ignore');"
   ]
  },
  {
   "cell_type": "code",
   "execution_count": 308,
   "metadata": {},
   "outputs": [
    {
     "name": "stdout",
     "output_type": "stream",
     "text": [
      "XGBRegressor(base_score=0.5, booster='gbtree', colsample_bylevel=1,\n",
      "             colsample_bynode=1, colsample_bytree=1, gamma=0, gpu_id=-1,\n",
      "             importance_type='gain', interaction_constraints='',\n",
      "             learning_rate=0.300000012, max_delta_step=0, max_depth=6,\n",
      "             min_child_weight=1, missing=nan, monotone_constraints='()',\n",
      "             n_estimators=100, n_jobs=0, num_parallel_tree=1,\n",
      "             objective='reg:squarederror', random_state=0, reg_alpha=0,\n",
      "             reg_lambda=1, scale_pos_weight=1, subsample=1, tree_method='exact',\n",
      "             validate_parameters=1, verbosity=None)\n"
     ]
    }
   ],
   "source": [
    "modelGBM = XGBRegressor()\n",
    "modelGBM.fit(X_trainM1,y_trainM1)\n",
    "print(modelGBM)"
   ]
  },
  {
   "cell_type": "code",
   "execution_count": 309,
   "metadata": {},
   "outputs": [
    {
     "name": "stdout",
     "output_type": "stream",
     "text": [
      "Model Performance\n",
      "Average Error: 16.1972 degrees.\n",
      "Accuracy = 88.29%.\n"
     ]
    }
   ],
   "source": [
    "AccuracyGBM = evaluate(modelGBM, X_testM1, y_testM1)"
   ]
  },
  {
   "cell_type": "code",
   "execution_count": 310,
   "metadata": {},
   "outputs": [
    {
     "name": "stdout",
     "output_type": "stream",
     "text": [
      "Training scoreGBM:  0.6203342997383399\n",
      "Test scoreGBM:  0.5724013178169052\n"
     ]
    }
   ],
   "source": [
    "score = modelGBM.score(X_trainM1,y_trainM1)  \n",
    "print(\"Training scoreGBM: \", score)\n",
    "score = modelGBM.score(X_testM1, y_testM1)  \n",
    "print(\"Test scoreGBM: \", score)"
   ]
  },
  {
   "cell_type": "code",
   "execution_count": 311,
   "metadata": {},
   "outputs": [
    {
     "name": "stdout",
     "output_type": "stream",
     "text": [
      "Training score RF:  0.8654520003205459\n",
      "Test score RF:  0.5803461671032568\n"
     ]
    }
   ],
   "source": [
    "score = regressorM1.score(X_trainM1,y_trainM1)  \n",
    "print(\"Training score RF: \", score)\n",
    "\n",
    "score = regressorM1.score(X_testM1, y_testM1)  \n",
    "print(\"Test score RF: \", score)"
   ]
  },
  {
   "cell_type": "markdown",
   "metadata": {},
   "source": [
    "## Exportar Base"
   ]
  },
  {
   "cell_type": "code",
   "execution_count": 312,
   "metadata": {},
   "outputs": [],
   "source": [
    "ComparisonR = pd.DataFrame() \n",
    "y_predM1=regressorM1.predict(X_testM1)\n",
    "y_predM2=regressorM2.predict(X_testM2)\n",
    "y_predM3=regressorM3.predict(X_testM3)\n",
    "y_predM4=regressorM4.predict(X_testM4)\n",
    "y_predM5=regressorM5.predict(X_testM5)\n",
    "y_predM6=regressorM6.predict(X_testM6)\n",
    "y_predM1GBM=modelGBM.predict(X_testM1)"
   ]
  },
  {
   "cell_type": "code",
   "execution_count": 313,
   "metadata": {},
   "outputs": [
    {
     "name": "stdout",
     "output_type": "stream",
     "text": [
      "(33842,)\n",
      "(33842,)\n",
      "(33842,)\n"
     ]
    }
   ],
   "source": [
    "print(y_predM1.shape)\n",
    "print(y_predM2.shape)\n",
    "print(y_predM3.shape)"
   ]
  },
  {
   "cell_type": "code",
   "execution_count": 314,
   "metadata": {},
   "outputs": [],
   "source": [
    "ComparisonR['y_testM1']=y_testM1\n",
    "ComparisonR['y_predM1']=y_predM1\n",
    "\n",
    "ComparisonR['y_testM2']=y_testM2\n",
    "ComparisonR['y_predM2']=y_predM2\n",
    "\n",
    "ComparisonR['y_testM3']=y_testM3\n",
    "ComparisonR['y_predM3']=y_predM3\n",
    "\n",
    "ComparisonR['y_testM4']=y_testM4\n",
    "ComparisonR['y_predM4']=y_predM4\n",
    "\n",
    "ComparisonR['y_testM5']=y_testM5\n",
    "ComparisonR['y_predM5']=y_predM5\n",
    "\n",
    "ComparisonR['y_testM6']=y_testM6\n",
    "ComparisonR['y_predM6']=y_predM6\n",
    "\n",
    "ComparisonR['y_predM1GBM']=y_predM1GBM"
   ]
  },
  {
   "cell_type": "code",
   "execution_count": null,
   "metadata": {},
   "outputs": [],
   "source": [
    "\n",
    "\n",
    "\n",
    "\n",
    "\n",
    "\n",
    "\n"
   ]
  },
  {
   "cell_type": "code",
   "execution_count": 315,
   "metadata": {
    "scrolled": true
   },
   "outputs": [
    {
     "data": {
      "text/html": [
       "<div>\n",
       "<style scoped>\n",
       "    .dataframe tbody tr th:only-of-type {\n",
       "        vertical-align: middle;\n",
       "    }\n",
       "\n",
       "    .dataframe tbody tr th {\n",
       "        vertical-align: top;\n",
       "    }\n",
       "\n",
       "    .dataframe thead th {\n",
       "        text-align: right;\n",
       "    }\n",
       "</style>\n",
       "<table border=\"1\" class=\"dataframe\">\n",
       "  <thead>\n",
       "    <tr style=\"text-align: right;\">\n",
       "      <th></th>\n",
       "      <th>y_testM1</th>\n",
       "      <th>y_predM1</th>\n",
       "      <th>y_testM2</th>\n",
       "      <th>y_predM2</th>\n",
       "      <th>y_testM3</th>\n",
       "      <th>y_predM3</th>\n",
       "      <th>y_testM4</th>\n",
       "      <th>y_predM4</th>\n",
       "      <th>y_testM5</th>\n",
       "      <th>y_predM5</th>\n",
       "      <th>y_testM6</th>\n",
       "      <th>y_predM6</th>\n",
       "      <th>y_predM1GBM</th>\n",
       "    </tr>\n",
       "  </thead>\n",
       "  <tbody>\n",
       "    <tr>\n",
       "      <th>111237</th>\n",
       "      <td>153.0</td>\n",
       "      <td>144.717471</td>\n",
       "      <td>126.0</td>\n",
       "      <td>127.85</td>\n",
       "      <td>110.0</td>\n",
       "      <td>135.15</td>\n",
       "      <td>136.0</td>\n",
       "      <td>116.90</td>\n",
       "      <td>134.0</td>\n",
       "      <td>133.95</td>\n",
       "      <td>146.0</td>\n",
       "      <td>145.00</td>\n",
       "      <td>140.275558</td>\n",
       "    </tr>\n",
       "    <tr>\n",
       "      <th>114790</th>\n",
       "      <td>137.0</td>\n",
       "      <td>169.805706</td>\n",
       "      <td>158.0</td>\n",
       "      <td>146.90</td>\n",
       "      <td>151.0</td>\n",
       "      <td>148.80</td>\n",
       "      <td>163.0</td>\n",
       "      <td>156.75</td>\n",
       "      <td>149.0</td>\n",
       "      <td>149.90</td>\n",
       "      <td>134.0</td>\n",
       "      <td>134.85</td>\n",
       "      <td>168.306198</td>\n",
       "    </tr>\n",
       "    <tr>\n",
       "      <th>14357</th>\n",
       "      <td>204.0</td>\n",
       "      <td>169.034449</td>\n",
       "      <td>189.0</td>\n",
       "      <td>187.30</td>\n",
       "      <td>217.0</td>\n",
       "      <td>194.25</td>\n",
       "      <td>186.0</td>\n",
       "      <td>187.55</td>\n",
       "      <td>177.0</td>\n",
       "      <td>182.50</td>\n",
       "      <td>90.0</td>\n",
       "      <td>153.15</td>\n",
       "      <td>166.145325</td>\n",
       "    </tr>\n",
       "    <tr>\n",
       "      <th>136274</th>\n",
       "      <td>123.0</td>\n",
       "      <td>115.008845</td>\n",
       "      <td>150.0</td>\n",
       "      <td>124.65</td>\n",
       "      <td>133.0</td>\n",
       "      <td>129.70</td>\n",
       "      <td>101.0</td>\n",
       "      <td>126.85</td>\n",
       "      <td>130.0</td>\n",
       "      <td>136.25</td>\n",
       "      <td>142.0</td>\n",
       "      <td>149.90</td>\n",
       "      <td>116.961212</td>\n",
       "    </tr>\n",
       "    <tr>\n",
       "      <th>8490</th>\n",
       "      <td>168.0</td>\n",
       "      <td>146.529537</td>\n",
       "      <td>143.0</td>\n",
       "      <td>147.75</td>\n",
       "      <td>194.0</td>\n",
       "      <td>140.85</td>\n",
       "      <td>172.0</td>\n",
       "      <td>139.25</td>\n",
       "      <td>163.0</td>\n",
       "      <td>156.25</td>\n",
       "      <td>140.0</td>\n",
       "      <td>157.50</td>\n",
       "      <td>149.283127</td>\n",
       "    </tr>\n",
       "  </tbody>\n",
       "</table>\n",
       "</div>"
      ],
      "text/plain": [
       "        y_testM1    y_predM1  y_testM2  y_predM2  y_testM3  y_predM3  \\\n",
       "111237     153.0  144.717471     126.0    127.85     110.0    135.15   \n",
       "114790     137.0  169.805706     158.0    146.90     151.0    148.80   \n",
       "14357      204.0  169.034449     189.0    187.30     217.0    194.25   \n",
       "136274     123.0  115.008845     150.0    124.65     133.0    129.70   \n",
       "8490       168.0  146.529537     143.0    147.75     194.0    140.85   \n",
       "\n",
       "        y_testM4  y_predM4  y_testM5  y_predM5  y_testM6  y_predM6  \\\n",
       "111237     136.0    116.90     134.0    133.95     146.0    145.00   \n",
       "114790     163.0    156.75     149.0    149.90     134.0    134.85   \n",
       "14357      186.0    187.55     177.0    182.50      90.0    153.15   \n",
       "136274     101.0    126.85     130.0    136.25     142.0    149.90   \n",
       "8490       172.0    139.25     163.0    156.25     140.0    157.50   \n",
       "\n",
       "        y_predM1GBM  \n",
       "111237   140.275558  \n",
       "114790   168.306198  \n",
       "14357    166.145325  \n",
       "136274   116.961212  \n",
       "8490     149.283127  "
      ]
     },
     "execution_count": 315,
     "metadata": {},
     "output_type": "execute_result"
    }
   ],
   "source": [
    "ComparisonR.head()"
   ]
  },
  {
   "cell_type": "code",
   "execution_count": null,
   "metadata": {},
   "outputs": [],
   "source": []
  },
  {
   "cell_type": "code",
   "execution_count": 316,
   "metadata": {},
   "outputs": [],
   "source": [
    "#https://towardsdatascience.com/hyperparameter-tuning-the-random-forest-in-python-using-scikit-learn-28d2aa77dd74"
   ]
  },
  {
   "cell_type": "code",
   "execution_count": 323,
   "metadata": {},
   "outputs": [
    {
     "data": {
      "text/plain": [
       "(33842, 31)"
      ]
     },
     "execution_count": 323,
     "metadata": {},
     "output_type": "execute_result"
    }
   ],
   "source": [
    "BaseRF = pd.concat([ComparisonR, X_testM1], axis=1).dropna()\n",
    "BaseRF.shape"
   ]
  },
  {
   "cell_type": "code",
   "execution_count": 324,
   "metadata": {},
   "outputs": [
    {
     "data": {
      "text/plain": [
       "(112804, 74)"
      ]
     },
     "execution_count": 324,
     "metadata": {},
     "output_type": "execute_result"
    }
   ],
   "source": [
    "dfModelo2019a.shape"
   ]
  },
  {
   "cell_type": "code",
   "execution_count": 325,
   "metadata": {},
   "outputs": [
    {
     "data": {
      "text/html": [
       "<div>\n",
       "<style scoped>\n",
       "    .dataframe tbody tr th:only-of-type {\n",
       "        vertical-align: middle;\n",
       "    }\n",
       "\n",
       "    .dataframe tbody tr th {\n",
       "        vertical-align: top;\n",
       "    }\n",
       "\n",
       "    .dataframe thead th {\n",
       "        text-align: right;\n",
       "    }\n",
       "</style>\n",
       "<table border=\"1\" class=\"dataframe\">\n",
       "  <thead>\n",
       "    <tr style=\"text-align: right;\">\n",
       "      <th></th>\n",
       "      <th>y_testM1</th>\n",
       "      <th>y_predM1</th>\n",
       "      <th>y_testM2</th>\n",
       "      <th>y_predM2</th>\n",
       "      <th>y_testM3</th>\n",
       "      <th>y_predM3</th>\n",
       "      <th>y_testM4</th>\n",
       "      <th>y_predM4</th>\n",
       "      <th>y_testM5</th>\n",
       "      <th>y_predM5</th>\n",
       "      <th>...</th>\n",
       "      <th>PaydCredit_Si</th>\n",
       "      <th>PaydParents_Si</th>\n",
       "      <th>MotherEducation_1NoBachiller</th>\n",
       "      <th>MotherEducation_3Tecnico</th>\n",
       "      <th>MotherEducation_4Profesional</th>\n",
       "      <th>MotherEducation_5Postgrado</th>\n",
       "      <th>CostUniversiteSemester_1 Menos de 500 mil</th>\n",
       "      <th>CostUniversiteSemester_2 0.5M-4M</th>\n",
       "      <th>CostUniversiteSemester_3 4M-7M</th>\n",
       "      <th>CostUniversiteSemester_No pago matricula</th>\n",
       "    </tr>\n",
       "  </thead>\n",
       "  <tbody>\n",
       "    <tr>\n",
       "      <th>111237</th>\n",
       "      <td>153.0</td>\n",
       "      <td>144.717471</td>\n",
       "      <td>126.0</td>\n",
       "      <td>127.85</td>\n",
       "      <td>110.0</td>\n",
       "      <td>135.15</td>\n",
       "      <td>136.0</td>\n",
       "      <td>116.90</td>\n",
       "      <td>134.0</td>\n",
       "      <td>133.95</td>\n",
       "      <td>...</td>\n",
       "      <td>0</td>\n",
       "      <td>0</td>\n",
       "      <td>1</td>\n",
       "      <td>0</td>\n",
       "      <td>0</td>\n",
       "      <td>0</td>\n",
       "      <td>0</td>\n",
       "      <td>1</td>\n",
       "      <td>0</td>\n",
       "      <td>0</td>\n",
       "    </tr>\n",
       "    <tr>\n",
       "      <th>114790</th>\n",
       "      <td>137.0</td>\n",
       "      <td>169.805706</td>\n",
       "      <td>158.0</td>\n",
       "      <td>146.90</td>\n",
       "      <td>151.0</td>\n",
       "      <td>148.80</td>\n",
       "      <td>163.0</td>\n",
       "      <td>156.75</td>\n",
       "      <td>149.0</td>\n",
       "      <td>149.90</td>\n",
       "      <td>...</td>\n",
       "      <td>1</td>\n",
       "      <td>1</td>\n",
       "      <td>1</td>\n",
       "      <td>0</td>\n",
       "      <td>0</td>\n",
       "      <td>0</td>\n",
       "      <td>0</td>\n",
       "      <td>0</td>\n",
       "      <td>1</td>\n",
       "      <td>0</td>\n",
       "    </tr>\n",
       "    <tr>\n",
       "      <th>14357</th>\n",
       "      <td>204.0</td>\n",
       "      <td>169.034449</td>\n",
       "      <td>189.0</td>\n",
       "      <td>187.30</td>\n",
       "      <td>217.0</td>\n",
       "      <td>194.25</td>\n",
       "      <td>186.0</td>\n",
       "      <td>187.55</td>\n",
       "      <td>177.0</td>\n",
       "      <td>182.50</td>\n",
       "      <td>...</td>\n",
       "      <td>0</td>\n",
       "      <td>0</td>\n",
       "      <td>0</td>\n",
       "      <td>0</td>\n",
       "      <td>0</td>\n",
       "      <td>0</td>\n",
       "      <td>0</td>\n",
       "      <td>1</td>\n",
       "      <td>0</td>\n",
       "      <td>0</td>\n",
       "    </tr>\n",
       "    <tr>\n",
       "      <th>136274</th>\n",
       "      <td>123.0</td>\n",
       "      <td>115.008845</td>\n",
       "      <td>150.0</td>\n",
       "      <td>124.65</td>\n",
       "      <td>133.0</td>\n",
       "      <td>129.70</td>\n",
       "      <td>101.0</td>\n",
       "      <td>126.85</td>\n",
       "      <td>130.0</td>\n",
       "      <td>136.25</td>\n",
       "      <td>...</td>\n",
       "      <td>0</td>\n",
       "      <td>1</td>\n",
       "      <td>0</td>\n",
       "      <td>0</td>\n",
       "      <td>0</td>\n",
       "      <td>0</td>\n",
       "      <td>0</td>\n",
       "      <td>1</td>\n",
       "      <td>0</td>\n",
       "      <td>0</td>\n",
       "    </tr>\n",
       "    <tr>\n",
       "      <th>8490</th>\n",
       "      <td>168.0</td>\n",
       "      <td>146.529537</td>\n",
       "      <td>143.0</td>\n",
       "      <td>147.75</td>\n",
       "      <td>194.0</td>\n",
       "      <td>140.85</td>\n",
       "      <td>172.0</td>\n",
       "      <td>139.25</td>\n",
       "      <td>163.0</td>\n",
       "      <td>156.25</td>\n",
       "      <td>...</td>\n",
       "      <td>0</td>\n",
       "      <td>0</td>\n",
       "      <td>0</td>\n",
       "      <td>0</td>\n",
       "      <td>1</td>\n",
       "      <td>0</td>\n",
       "      <td>1</td>\n",
       "      <td>0</td>\n",
       "      <td>0</td>\n",
       "      <td>0</td>\n",
       "    </tr>\n",
       "  </tbody>\n",
       "</table>\n",
       "<p>5 rows × 31 columns</p>\n",
       "</div>"
      ],
      "text/plain": [
       "        y_testM1    y_predM1  y_testM2  y_predM2  y_testM3  y_predM3  \\\n",
       "111237     153.0  144.717471     126.0    127.85     110.0    135.15   \n",
       "114790     137.0  169.805706     158.0    146.90     151.0    148.80   \n",
       "14357      204.0  169.034449     189.0    187.30     217.0    194.25   \n",
       "136274     123.0  115.008845     150.0    124.65     133.0    129.70   \n",
       "8490       168.0  146.529537     143.0    147.75     194.0    140.85   \n",
       "\n",
       "        y_testM4  y_predM4  y_testM5  y_predM5  ...  PaydCredit_Si  \\\n",
       "111237     136.0    116.90     134.0    133.95  ...              0   \n",
       "114790     163.0    156.75     149.0    149.90  ...              1   \n",
       "14357      186.0    187.55     177.0    182.50  ...              0   \n",
       "136274     101.0    126.85     130.0    136.25  ...              0   \n",
       "8490       172.0    139.25     163.0    156.25  ...              0   \n",
       "\n",
       "        PaydParents_Si  MotherEducation_1NoBachiller  \\\n",
       "111237               0                             1   \n",
       "114790               1                             1   \n",
       "14357                0                             0   \n",
       "136274               1                             0   \n",
       "8490                 0                             0   \n",
       "\n",
       "        MotherEducation_3Tecnico  MotherEducation_4Profesional  \\\n",
       "111237                         0                             0   \n",
       "114790                         0                             0   \n",
       "14357                          0                             0   \n",
       "136274                         0                             0   \n",
       "8490                           0                             1   \n",
       "\n",
       "        MotherEducation_5Postgrado  CostUniversiteSemester_1 Menos de 500 mil  \\\n",
       "111237                           0                                          0   \n",
       "114790                           0                                          0   \n",
       "14357                            0                                          0   \n",
       "136274                           0                                          0   \n",
       "8490                             0                                          1   \n",
       "\n",
       "        CostUniversiteSemester_2 0.5M-4M  CostUniversiteSemester_3 4M-7M  \\\n",
       "111237                                 1                               0   \n",
       "114790                                 0                               1   \n",
       "14357                                  1                               0   \n",
       "136274                                 1                               0   \n",
       "8490                                   0                               0   \n",
       "\n",
       "        CostUniversiteSemester_No pago matricula  \n",
       "111237                                         0  \n",
       "114790                                         0  \n",
       "14357                                          0  \n",
       "136274                                         0  \n",
       "8490                                           0  \n",
       "\n",
       "[5 rows x 31 columns]"
      ]
     },
     "execution_count": 325,
     "metadata": {},
     "output_type": "execute_result"
    }
   ],
   "source": [
    "BaseRF.head()"
   ]
  },
  {
   "cell_type": "code",
   "execution_count": 326,
   "metadata": {},
   "outputs": [],
   "source": [
    "BaseRF.to_csv (r'C:\\Users\\nohor\\Documents\\DS4A\\Project\\data\\BaseRF.csv', header=True)"
   ]
  },
  {
   "cell_type": "code",
   "execution_count": null,
   "metadata": {},
   "outputs": [],
   "source": []
  },
  {
   "cell_type": "code",
   "execution_count": null,
   "metadata": {},
   "outputs": [],
   "source": []
  },
  {
   "cell_type": "markdown",
   "metadata": {},
   "source": [
    "## Saving the Models"
   ]
  },
  {
   "cell_type": "code",
   "execution_count": 327,
   "metadata": {},
   "outputs": [
    {
     "data": {
      "text/plain": [
       "['ModelQR.pkl']"
      ]
     },
     "execution_count": 327,
     "metadata": {},
     "output_type": "execute_result"
    }
   ],
   "source": [
    "import joblib\n",
    "#joblib.dump(rf, 'name.pkl', compress=9)\n",
    "joblib.dump(regressorM1, 'ModelQR.pkl', compress=9) "
   ]
  },
  {
   "cell_type": "code",
   "execution_count": 328,
   "metadata": {},
   "outputs": [
    {
     "data": {
      "text/plain": [
       "['ModelEN.pkl']"
      ]
     },
     "execution_count": 328,
     "metadata": {},
     "output_type": "execute_result"
    }
   ],
   "source": [
    "import joblib\n",
    "#joblib.dump(rf, 'name.pkl', compress=9)\n",
    "joblib.dump(regressorM2, 'ModelEN.pkl', compress=9) "
   ]
  },
  {
   "cell_type": "code",
   "execution_count": 340,
   "metadata": {},
   "outputs": [
    {
     "data": {
      "text/plain": [
       "['ModelRE.pkl']"
      ]
     },
     "execution_count": 340,
     "metadata": {},
     "output_type": "execute_result"
    }
   ],
   "source": [
    "import joblib\n",
    "#joblib.dump(rf, 'name.pkl', compress=9)\n",
    "joblib.dump(regressorM3, 'ModelRE.pkl', compress=9) "
   ]
  },
  {
   "cell_type": "code",
   "execution_count": 345,
   "metadata": {},
   "outputs": [
    {
     "data": {
      "text/plain": [
       "['ModelCI.pkl']"
      ]
     },
     "execution_count": 345,
     "metadata": {},
     "output_type": "execute_result"
    }
   ],
   "source": [
    "import joblib\n",
    "#joblib.dump(rf, 'name.pkl', compress=9)\n",
    "joblib.dump(regressorM4, 'ModelCI.pkl', compress=9) "
   ]
  },
  {
   "cell_type": "code",
   "execution_count": 354,
   "metadata": {},
   "outputs": [
    {
     "data": {
      "text/plain": [
       "['ModelGLOBAL.pkl']"
      ]
     },
     "execution_count": 354,
     "metadata": {},
     "output_type": "execute_result"
    }
   ],
   "source": [
    "import joblib\n",
    "#joblib.dump(rf, 'name.pkl', compress=9)\n",
    "joblib.dump(regressorM5, 'ModelGLOBAL.pkl', compress=9) "
   ]
  },
  {
   "cell_type": "code",
   "execution_count": 360,
   "metadata": {},
   "outputs": [
    {
     "data": {
      "text/plain": [
       "['ModelCOMMUNICATION.pkl']"
      ]
     },
     "execution_count": 360,
     "metadata": {},
     "output_type": "execute_result"
    }
   ],
   "source": [
    "import joblib\n",
    "#joblib.dump(rf, 'name.pkl', compress=9)\n",
    "joblib.dump(regressorM6, 'ModelCOMMUNICATION.pkl', compress=9) "
   ]
  },
  {
   "cell_type": "code",
   "execution_count": null,
   "metadata": {},
   "outputs": [],
   "source": []
  },
  {
   "cell_type": "code",
   "execution_count": null,
   "metadata": {},
   "outputs": [],
   "source": []
  },
  {
   "cell_type": "code",
   "execution_count": null,
   "metadata": {},
   "outputs": [],
   "source": []
  }
 ],
 "metadata": {
  "kernelspec": {
   "display_name": "Python 3",
   "language": "python",
   "name": "python3"
  },
  "language_info": {
   "codemirror_mode": {
    "name": "ipython",
    "version": 3
   },
   "file_extension": ".py",
   "mimetype": "text/x-python",
   "name": "python",
   "nbconvert_exporter": "python",
   "pygments_lexer": "ipython3",
   "version": "3.7.6"
  }
 },
 "nbformat": 4,
 "nbformat_minor": 4
}
