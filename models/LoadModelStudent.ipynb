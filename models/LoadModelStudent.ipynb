{
 "cells": [
  {
   "cell_type": "markdown",
   "metadata": {},
   "source": [
    "## Este codigo muestra como llamar el modelo y ejecutarlo para un resultado especifico"
   ]
  },
  {
   "cell_type": "markdown",
   "metadata": {},
   "source": [
    "## 1. Librerias"
   ]
  },
  {
   "cell_type": "code",
   "execution_count": 11,
   "metadata": {
    "colab": {
     "base_uri": "https://localhost:8080/",
     "height": 72
    },
    "colab_type": "code",
    "id": "anOceNVzsBPo",
    "outputId": "dcc33371-8ccd-4f4e-b682-b0bd98ef0b44"
   },
   "outputs": [],
   "source": [
    "import pandas as pd\n",
    "import numpy as np\n",
    "import os\n",
    "import glob\n",
    "#import sklearn.metrics       as Metrics\n",
    "import sklearn\n",
    "from sklearn import metrics\n",
    "from sklearn.ensemble import RandomForestRegressor \n",
    "from sklearn.externals import joblib \n",
    "#from sklearn.model_selection import train_test_split\n",
    "import pickle"
   ]
  },
  {
   "cell_type": "code",
   "execution_count": 12,
   "metadata": {},
   "outputs": [
    {
     "name": "stdout",
     "output_type": "stream",
     "text": [
      "version sklearn 0.22.1\n",
      "version pickle 4.0\n"
     ]
    }
   ],
   "source": [
    "print('version sklearn', sklearn.__version__)\n",
    "print('version pickle', pickle.format_version)\n"
   ]
  },
  {
   "cell_type": "markdown",
   "metadata": {},
   "source": [
    "## 2. Leer bases"
   ]
  },
  {
   "cell_type": "code",
   "execution_count": 13,
   "metadata": {},
   "outputs": [],
   "source": [
    "#directorio de la carpeta donde estan los modelos que se quieren cargar\n",
    "os.chdir('C:/Users/nohor/Documents/DS4A/Project/Data')\n",
    "extension = 'csv'\n",
    "all_filenames = [i for i in glob.glob('*.{}'.format(extension))]\n",
    "#print(all_filenames)"
   ]
  },
  {
   "cell_type": "code",
   "execution_count": 14,
   "metadata": {},
   "outputs": [],
   "source": [
    "#Formato de las Variables que Deben ingresar\n",
    "#PositionScoreHighSchool=range(0:1000) #float\n",
    "#ScoreMathHighSchool= range(0:150) #float\n",
    "#ScoreEnglishHighSchool=range(0:150) #float\n",
    "#Age= range(0:60) #float\n",
    "#GEnder1= ['M','F'] \n",
    "#MotherEducation=['1NoBachiller','2Bachiller','3Tecnico','4Profesional','5Postgrado','6NS-NR']\n",
    "#CostUniversiteSemester=['1 Menos de 500 mil','2 0.5M-4M','3 4M-7M','4 7+','No pago matricula']\n",
    "#PaydCredit=['Yes','N0']\n",
    "#Payd=['Parents','Scholarship','Myself']\n",
    "#Program= hacer un query\n",
    "#UniversityName= hacer un query\n",
    "#StateProgram= hacer un query\n",
    "#StateLive= hacer un query\n",
    "#YearS11=range(1990:2019) #float\n",
    "#YearSPro=range(2016:2025) #float"
   ]
  },
  {
   "cell_type": "code",
   "execution_count": 15,
   "metadata": {},
   "outputs": [],
   "source": [
    "#Ejemplo de los valores que ingresan\n",
    "PositionScoreHighSchool=59\n",
    "ScoreMathHighSchool= 57\n",
    "ScoreEnglishHighSchool=58\n",
    "Age= 23\n",
    "GEnder1= 'M'\n",
    "MotherEducation='1NoBachiller'\n",
    "CostUniversiteSemester='2 0.5M-4M'\n",
    "PaydCredit='Yes'\n",
    "Payd='Parents'\n",
    "Program='MERCADEO PUBLICIDAD Y VENTAS'\n",
    "UniversityName='CORPORACION UNIVERSITARIA DEL HUILACORHUILANEIVA'\n",
    "StateProgram='HUILA'\n",
    "StateLive='HUILA'\n",
    "YearS11=2013\n",
    "YearSPro=2019\n"
   ]
  },
  {
   "cell_type": "code",
   "execution_count": 28,
   "metadata": {},
   "outputs": [],
   "source": [
    "#Variables por calcular\n",
    "ReadingScore3yearsProgram=134.2739726\n",
    "QuantitativeReasoningScore3yearsProgram = 134.5753425\n",
    "EnglishScore3yearsProgram=134.2739726\n",
    "CitizenScore3yearsProgram=127.4520548\n",
    "ComunicationScore3yearsProgram=134.2739726\n",
    "ClusterState= 5\n",
    "DistanceStateLiveProgram=0\n",
    "\n",
    "\n",
    "\n",
    "#Variables Ya calculadas\n",
    "\n",
    "CostUniversiteSemester_1=0\n",
    "CostUniversiteSemester_2=0\n",
    "CostUniversiteSemester_3=0\n",
    "CostUniversiteSemester_No=0\n",
    "\n",
    "if CostUniversiteSemester == '1 Menos de 500 mil':\n",
    "    CostUniversiteSemester_1=1\n",
    "    \n",
    "if CostUniversiteSemester == '2 0.5M-4M':\n",
    "    CostUniversiteSemester_2=1\n",
    "\n",
    "if CostUniversiteSemester == '3 4M-7M':\n",
    "    CostUniversiteSemester_3=1\n",
    "    \n",
    "if CostUniversiteSemester == 'No pago matricula':\n",
    "    CostUniversiteSemester_No=1\n",
    "\n",
    "\n",
    "ClusterState_1=0\n",
    "ClusterState_2=0\n",
    "ClusterState_3=0\n",
    "ClusterState_4=0\n",
    "\n",
    "if ClusterState == 1:\n",
    "    ClusterState_1=1\n",
    "\n",
    "if ClusterState == 2:\n",
    "    ClusterState_2=1\n",
    "    \n",
    "if ClusterState == 3:\n",
    "    ClusterState_3=1\n",
    "\n",
    "if ClusterState == 4:\n",
    "    ClusterState_4=1\n",
    "    \n",
    "Gender=0\n",
    "if GEnder1 == 'M':\n",
    "    Gender_M=1\n",
    "\n",
    "TimeExamvsS11=YearSPro-YearS11\n",
    "\n",
    "\n",
    "MotherEducation_1NoBachiller=0\n",
    "MotherEducation_4Profesional=0\n",
    "MotherEducation_3Tecnico=0\n",
    "MotherEducation_5Postgrado=0   \n",
    "    \n",
    "\n",
    "if MotherEducation == '1NoBachiller':\n",
    "    MotherEducation_1NoBachiller=1  \n",
    "    \n",
    "if MotherEducation == '4Profesional':\n",
    "    MotherEducation_4Profesional=1  \n",
    "    \n",
    "if MotherEducation == '3Tecnico':\n",
    "    MotherEducation_3Tecnico=1  \n",
    "\n",
    "if MotherEducation == '5Postgrado':\n",
    "    MotherEducation_5Postgrado=1  \n",
    "\n",
    "PaydCredit_Si=0\n",
    "PaydParents_Si=0\n",
    "PaydScholarship_Si=0\n",
    "\n",
    "if  PaydCredit == 'Yes':\n",
    "    PaydCredit_Si=1  \n",
    "    \n",
    "if Payd == 'Parents':\n",
    "    PaydParents_Si=1  \n",
    "\n",
    "if Payd == 'Scholarship':\n",
    "    PaydScholarship_Si=1  \n",
    "\n",
    "#'PositionScoreHighSchool', 100\n",
    "#'ScoreEnglishHighSchool', 80\n",
    "#'QuantitativeReasoningScore3yearsProgram', 150\n",
    "#'Age', 22\n",
    "#'TimeExamvsS11', 5\n",
    "#'Gender_M', 1\n",
    "#'DistanceStateLiveProgram', 0\n",
    "#'PaydScholarship_Si', 0\n",
    "#'PaydCredit_Si', 0\n",
    "#'PaydParents_Si',  1\n",
    "#'MotherEducation_5Postgrado', 1\n",
    "#'MotherEducation_5Profesional', 0\n",
    "#'MotherEducation_1No Bachiller', 0\n",
    "#'CostUniversiteSemester_1 Menos de 500 mil', 0\n",
    "#'CostUniversiteSemester_2 0.5M-4M', 0\n",
    "#'CostUniversiteSemester_3 4M-7M', 0\n",
    "#'CostUniversiteSemester_No pago matricula' 0\n",
    "                    "
   ]
  },
  {
   "cell_type": "code",
   "execution_count": 29,
   "metadata": {},
   "outputs": [
    {
     "data": {
      "text/plain": [
       "159"
      ]
     },
     "execution_count": 29,
     "metadata": {},
     "output_type": "execute_result"
    }
   ],
   "source": [
    "#Codigo para probar que corre el modelo\n",
    "ModelQRPrueba = joblib.load('ModelQR.pkl')\n",
    "QR1=np.round(ModelQRPrueba.predict([[59, 59, 59, 22, 6, 0,1,1,1,1,0,1,0,0,0,0,0,0]]),0)\n",
    "X1=int(QR1[0])\n",
    "X1"
   ]
  },
  {
   "cell_type": "code",
   "execution_count": 31,
   "metadata": {},
   "outputs": [
    {
     "data": {
      "text/plain": [
       "161"
      ]
     },
     "execution_count": 31,
     "metadata": {},
     "output_type": "execute_result"
    }
   ],
   "source": [
    "#Cargue y ejecucion del modelo relacionado con Razonamiento Cuantitativo\n",
    "ModelQR = joblib.load('ModelQR.pkl')\n",
    "QR=np.round(ModelQR.predict([[PositionScoreHighSchool,\n",
    "                              ScoreMathHighSchool,\n",
    "                              QuantitativeReasoningScore3yearsProgram,\n",
    "                              Age, \n",
    "                              TimeExamvsS11, \n",
    "                              Gender_M,\n",
    "                              DistanceStateLiveProgram,\n",
    "                              PaydScholarship_Si,\n",
    "                              PaydCredit_Si,\n",
    "                              PaydParents_Si,\n",
    "                              MotherEducation_1NoBachiller,\n",
    "                              MotherEducation_3Tecnico,\n",
    "                              MotherEducation_4Profesional,\n",
    "                              MotherEducation_5Postgrado,\n",
    "                              CostUniversiteSemester_1,\n",
    "                              CostUniversiteSemester_2,\n",
    "                              CostUniversiteSemester_3,\n",
    "                              CostUniversiteSemester_No\n",
    "                             ]]),0)\n",
    "QUANTITATIVE=int(QR[0])\n",
    "QUANTITATIVE"
   ]
  },
  {
   "cell_type": "code",
   "execution_count": 34,
   "metadata": {},
   "outputs": [
    {
     "data": {
      "text/plain": [
       "179"
      ]
     },
     "execution_count": 34,
     "metadata": {},
     "output_type": "execute_result"
    }
   ],
   "source": [
    "#Cargue y ejecucion del modelo relacionado con Ingles\n",
    "ModelEN = joblib.load('ModelEN.pkl')\n",
    "EN=np.round(ModelEN.predict([[  PositionScoreHighSchool,\n",
    "                                ScoreEnglishHighSchool,\n",
    "                                EnglishScore3yearsProgram,\n",
    "                                Age,\n",
    "                                TimeExamvsS11,\n",
    "                                Gender_M,\n",
    "                                DistanceStateLiveProgram,\n",
    "                                PaydScholarship_Si,\n",
    "                                PaydCredit_Si,\n",
    "                                PaydParents_Si,\n",
    "                                MotherEducation_1NoBachiller,\n",
    "                                MotherEducation_3Tecnico,\n",
    "                                MotherEducation_4Profesional,\n",
    "                                MotherEducation_5Postgrado,\n",
    "                                ClusterState_1,\n",
    "                                ClusterState_2,\n",
    "                                ClusterState_3,\n",
    "                                ClusterState_4\n",
    "                             ]]),0)\n",
    "ENGLISH=int(EN[0])\n",
    "ENGLISH"
   ]
  },
  {
   "cell_type": "code",
   "execution_count": 36,
   "metadata": {},
   "outputs": [
    {
     "data": {
      "text/plain": [
       "181"
      ]
     },
     "execution_count": 36,
     "metadata": {},
     "output_type": "execute_result"
    }
   ],
   "source": [
    "#Cargue y ejecucion del modelo relacionado con Lectura Critica\n",
    "ModelRE = joblib.load('ModelRE.pkl')\n",
    "RE=np.round(ModelRE.predict([[\n",
    "                                PositionScoreHighSchool,\n",
    "                                ScoreMathHighSchool,\n",
    "                                ReadingScore3yearsProgram,\n",
    "                                Age,\n",
    "                                TimeExamvsS11,\n",
    "                                Gender_M,\n",
    "                                DistanceStateLiveProgram,\n",
    "                                PaydScholarship_Si,\n",
    "                                PaydCredit_Si,\n",
    "                                PaydParents_Si,\n",
    "                                MotherEducation_1NoBachiller,\n",
    "                                MotherEducation_3Tecnico,\n",
    "                                MotherEducation_4Profesional,\n",
    "                                MotherEducation_5Postgrado,\n",
    "                                CostUniversiteSemester_1,\n",
    "                                CostUniversiteSemester_2,\n",
    "                                CostUniversiteSemester_3,\n",
    "                                CostUniversiteSemester_No\n",
    "                                ]]),0)\n",
    "READING=int(RE[0])\n",
    "READING"
   ]
  },
  {
   "cell_type": "code",
   "execution_count": null,
   "metadata": {},
   "outputs": [],
   "source": [
    "                    PositionScoreHighSchool,\n",
    "                    ScoreMathHighSchool,\n",
    "                    CitizenScore3yearsProgram,\n",
    "                    Age,\n",
    "                    TimeExamvsS11,\n",
    "                    Gender_M,\n",
    "                    #HighSchoolBilingual_S,\n",
    "                    DistanceStateLiveProgram,\n",
    "                    PaydScholarship_Si,\n",
    "                    PaydCredit_Si,\n",
    "                    PaydParents_Si,\n",
    "                    MotherEducation_1NoBachiller,\n",
    "                    MotherEducation_3Tecnico,\n",
    "                    MotherEducation_4Profesional,\n",
    "                    MotherEducation_5Postgrado,\n",
    "    \n",
    "                    ClusterState_1,\n",
    "                    ClusterState_2,\n",
    "                    ClusterState_3,\n",
    "                    ClusterState_4,\n",
    "    \n",
    "                    CostUniversiteSemester_1,\n",
    "                    CostUniversiteSemester_2,\n",
    "                    CostUniversiteSemester_3,\n",
    "                    CostUniversiteSemester_4,\n",
    "                    CostUniversiteSemester_No"
   ]
  },
  {
   "cell_type": "code",
   "execution_count": 38,
   "metadata": {},
   "outputs": [
    {
     "data": {
      "text/plain": [
       "179"
      ]
     },
     "execution_count": 38,
     "metadata": {},
     "output_type": "execute_result"
    }
   ],
   "source": [
    "#Cargue y ejecucion del modelo relacionado con COMPETENCIA CIUDADANA\n",
    "ModelCI = joblib.load('ModelCI.pkl')\n",
    "CI=np.round(ModelCI.predict([[\n",
    "                                PositionScoreHighSchool,\n",
    "                                ScoreMathHighSchool,\n",
    "                                CitizenScore3yearsProgram,\n",
    "                                Age,\n",
    "                                TimeExamvsS11,\n",
    "                                Gender_M,\n",
    "                                \n",
    "                                DistanceStateLiveProgram,\n",
    "                                PaydScholarship_Si,\n",
    "                                PaydCredit_Si,\n",
    "                                PaydParents_Si,\n",
    "                                MotherEducation_1NoBachiller,\n",
    "                                MotherEducation_3Tecnico,\n",
    "                                MotherEducation_4Profesional,\n",
    "                                MotherEducation_5Postgrado,\n",
    "\n",
    "                                ClusterState_1,\n",
    "                                ClusterState_2,\n",
    "                                ClusterState_3,\n",
    "                                ClusterState_4,\n",
    "\n",
    "                                CostUniversiteSemester_1,\n",
    "                                CostUniversiteSemester_2,\n",
    "                                CostUniversiteSemester_3,\n",
    "                                CostUniversiteSemester_No\n",
    "                                ]]),0)\n",
    "CITIZEN=int(CI[0])\n",
    "CITIZEN"
   ]
  },
  {
   "cell_type": "code",
   "execution_count": 39,
   "metadata": {},
   "outputs": [
    {
     "data": {
      "text/plain": [
       "(0,)"
      ]
     },
     "execution_count": 39,
     "metadata": {},
     "output_type": "execute_result"
    }
   ],
   "source": [
    "                    PositionScoreHighSchool,\n",
    "                    ScoreMathHighSchool,\n",
    "                    CitizenScore3yearsProgram,\n",
    "                    Age,\n",
    "                    TimeExamvsS11,\n",
    "                    Gender_M,\n",
    "                    \n",
    "                    DistanceStateLiveProgram,\n",
    "                    PaydScholarship_Si,\n",
    "                    PaydCredit_Si,\n",
    "                    PaydParents_Si,\n",
    "                    MotherEducation_1NoBachiller,\n",
    "                    MotherEducation_3Tecnico,\n",
    "                    MotherEducation_4Profesional,\n",
    "                    MotherEducation_5Postgrado,\n",
    "    \n",
    "                    ClusterState_1,\n",
    "                    ClusterState_2,\n",
    "                    ClusterState_3,\n",
    "                    ClusterState_4,\n",
    "    \n",
    "                    CostUniversiteSemester_1,\n",
    "                    CostUniversiteSemester_2,\n",
    "                   CostUniversiteSemester_3,\n",
    "                   \n",
    "                    CostUniversiteSemester_No\n",
    "                    "
   ]
  },
  {
   "cell_type": "code",
   "execution_count": 41,
   "metadata": {},
   "outputs": [
    {
     "data": {
      "text/plain": [
       "174"
      ]
     },
     "execution_count": 41,
     "metadata": {},
     "output_type": "execute_result"
    }
   ],
   "source": [
    "#Cargue y ejecucion del modelo relacionado con el resultado general de Saber Pro\n",
    "ModelGLOBAL = joblib.load('ModelGLOBAL.pkl')\n",
    "GLOBALSCORE=np.round(ModelGLOBAL.predict([[\n",
    "                                                PositionScoreHighSchool,\n",
    "                                                ScoreMathHighSchool,\n",
    "                                                CitizenScore3yearsProgram,\n",
    "                                                Age,\n",
    "                                                TimeExamvsS11,\n",
    "                                                Gender_M,\n",
    "\n",
    "                                                DistanceStateLiveProgram,\n",
    "                                                PaydScholarship_Si,\n",
    "                                                PaydCredit_Si,\n",
    "                                                PaydParents_Si,\n",
    "                                                MotherEducation_1NoBachiller,\n",
    "                                                MotherEducation_3Tecnico,\n",
    "                                                MotherEducation_4Profesional,\n",
    "                                                MotherEducation_5Postgrado,\n",
    "\n",
    "                                                ClusterState_1,\n",
    "                                                ClusterState_2,\n",
    "                                                ClusterState_3,\n",
    "                                                ClusterState_4,\n",
    "\n",
    "                                                CostUniversiteSemester_1,\n",
    "                                                CostUniversiteSemester_2,\n",
    "                                               CostUniversiteSemester_3,\n",
    "\n",
    "                                                CostUniversiteSemester_No\n",
    "                                          ]]),0)\n",
    "GLOBAL=int(GLOBALSCORE[0])\n",
    "GLOBAL"
   ]
  },
  {
   "cell_type": "code",
   "execution_count": 42,
   "metadata": {},
   "outputs": [
    {
     "data": {
      "text/plain": [
       "143"
      ]
     },
     "execution_count": 42,
     "metadata": {},
     "output_type": "execute_result"
    }
   ],
   "source": [
    "#Cargue y ejecucion del modelo relacionado con el resultado general de COMMUNICATION\n",
    "ModelCOMMUNICATION = joblib.load('ModelCOMMUNICATION.pkl')\n",
    "COMM=np.round(ModelCOMMUNICATION.predict([[PositionScoreHighSchool,\n",
    "                                            ScoreMathHighSchool,\n",
    "                                            ComunicationScore3yearsProgram,\n",
    "                                            Age,\n",
    "                                            TimeExamvsS11,\n",
    "                                            Gender_M,\n",
    "\n",
    "                                            DistanceStateLiveProgram,\n",
    "                                            PaydScholarship_Si,\n",
    "                                            PaydCredit_Si,\n",
    "                                            PaydParents_Si,\n",
    "                                            MotherEducation_1NoBachiller,\n",
    "                                            MotherEducation_3Tecnico,\n",
    "                                            MotherEducation_4Profesional,\n",
    "                                            MotherEducation_5Postgrado,\n",
    "\n",
    "                                            ClusterState_1,\n",
    "                                            ClusterState_2,\n",
    "                                            ClusterState_3,\n",
    "                                            ClusterState_4\n",
    "                                          ]]),0)\n",
    "COMMUNICATION=int(COMM[0])\n",
    "COMMUNICATION"
   ]
  },
  {
   "cell_type": "code",
   "execution_count": null,
   "metadata": {},
   "outputs": [],
   "source": []
  },
  {
   "cell_type": "code",
   "execution_count": null,
   "metadata": {},
   "outputs": [],
   "source": []
  },
  {
   "cell_type": "code",
   "execution_count": null,
   "metadata": {},
   "outputs": [],
   "source": []
  },
  {
   "cell_type": "code",
   "execution_count": null,
   "metadata": {},
   "outputs": [],
   "source": []
  }
 ],
 "metadata": {
  "kernelspec": {
   "display_name": "Python 3",
   "language": "python",
   "name": "python3"
  },
  "language_info": {
   "codemirror_mode": {
    "name": "ipython",
    "version": 3
   },
   "file_extension": ".py",
   "mimetype": "text/x-python",
   "name": "python",
   "nbconvert_exporter": "python",
   "pygments_lexer": "ipython3",
   "version": "3.7.6"
  }
 },
 "nbformat": 4,
 "nbformat_minor": 4
}
