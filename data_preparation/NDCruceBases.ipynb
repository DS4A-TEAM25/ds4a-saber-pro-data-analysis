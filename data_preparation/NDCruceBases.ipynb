{
 "cells": [
  {
   "cell_type": "markdown",
   "metadata": {},
   "source": [
    "## Código utilizado para cruzar las bases de Datos Saber 11 y Saber Pro"
   ]
  },
  {
   "cell_type": "markdown",
   "metadata": {},
   "source": [
    "## 1. Librerias"
   ]
  },
  {
   "cell_type": "code",
   "execution_count": 8,
   "metadata": {},
   "outputs": [],
   "source": [
    "## 1. Librerias\n",
    "import pandas as pd\n",
    "import numpy as np\n",
    "import copy\n",
    "import os\n",
    "import glob\n",
    "%matplotlib inline"
   ]
  },
  {
   "cell_type": "markdown",
   "metadata": {},
   "source": [
    "## 2. Bases SaberPro"
   ]
  },
  {
   "cell_type": "code",
   "execution_count": 9,
   "metadata": {},
   "outputs": [
    {
     "data": {
      "text/html": [
       "<div>\n",
       "<style scoped>\n",
       "    .dataframe tbody tr th:only-of-type {\n",
       "        vertical-align: middle;\n",
       "    }\n",
       "\n",
       "    .dataframe tbody tr th {\n",
       "        vertical-align: top;\n",
       "    }\n",
       "\n",
       "    .dataframe thead th {\n",
       "        text-align: right;\n",
       "    }\n",
       "</style>\n",
       "<table border=\"1\" class=\"dataframe\">\n",
       "  <thead>\n",
       "    <tr style=\"text-align: right;\">\n",
       "      <th></th>\n",
       "      <th>estu_consecutivo_11</th>\n",
       "      <th>estu_consecutivo_PRO</th>\n",
       "    </tr>\n",
       "  </thead>\n",
       "  <tbody>\n",
       "    <tr>\n",
       "      <th>0</th>\n",
       "      <td>SABER1120082416622</td>\n",
       "      <td>EK201210000523</td>\n",
       "    </tr>\n",
       "    <tr>\n",
       "      <th>1</th>\n",
       "      <td>SABER1120082072880</td>\n",
       "      <td>EK201210000528</td>\n",
       "    </tr>\n",
       "    <tr>\n",
       "      <th>2</th>\n",
       "      <td>SABER1120062195960</td>\n",
       "      <td>EK201210000532</td>\n",
       "    </tr>\n",
       "    <tr>\n",
       "      <th>3</th>\n",
       "      <td>SABER1120072075157</td>\n",
       "      <td>EK201210000533</td>\n",
       "    </tr>\n",
       "    <tr>\n",
       "      <th>4</th>\n",
       "      <td>SB11201020158376</td>\n",
       "      <td>EK201210000535</td>\n",
       "    </tr>\n",
       "  </tbody>\n",
       "</table>\n",
       "</div>"
      ],
      "text/plain": [
       "  estu_consecutivo_11 estu_consecutivo_PRO\n",
       "0  SABER1120082416622       EK201210000523\n",
       "1  SABER1120082072880       EK201210000528\n",
       "2  SABER1120062195960       EK201210000532\n",
       "3  SABER1120072075157       EK201210000533\n",
       "4    SB11201020158376       EK201210000535"
      ]
     },
     "execution_count": 9,
     "metadata": {},
     "output_type": "execute_result"
    }
   ],
   "source": [
    "## Leer base de Saber PRO para los años de 2016 a 2019\n",
    "Llave = pd.read_csv(\"C:/Users/nohor/Documents/DS4A/Project/Llave_Saber11_2006-1_2019-2_SaberPRO_2012-1_2019-2.txt\")\n",
    "Llave.head()"
   ]
  },
  {
   "cell_type": "code",
   "execution_count": 10,
   "metadata": {},
   "outputs": [],
   "source": [
    "os.chdir('C:/Users/nohor/Documents/DS4A/Project/Data')\n",
    "extension = 'csv'\n",
    "all_filenames = [i for i in glob.glob('*.{}'.format(extension))]\n",
    "#print(all_filenames)"
   ]
  },
  {
   "cell_type": "code",
   "execution_count": 11,
   "metadata": {},
   "outputs": [
    {
     "name": "stderr",
     "output_type": "stream",
     "text": [
      "C:\\Users\\nohor\\anaconda3\\lib\\site-packages\\IPython\\core\\interactiveshell.py:3063: DtypeWarning: Columns (54,59,65) have mixed types.Specify dtype option on import or set low_memory=False.\n",
      "  interactivity=interactivity, compiler=compiler, result=result)\n"
     ]
    }
   ],
   "source": [
    "#combine all files in the list\n",
    "Pro2016 = pd.read_csv('Resultados_Saber_Pro_Competencias_Genericas_2016.csv')\n",
    "Pro2016['estu_consecutivo']=Pro2016[\"apli_consecutivo\"]\n"
   ]
  },
  {
   "cell_type": "code",
   "execution_count": 12,
   "metadata": {},
   "outputs": [
    {
     "name": "stderr",
     "output_type": "stream",
     "text": [
      "C:\\Users\\nohor\\anaconda3\\lib\\site-packages\\IPython\\core\\interactiveshell.py:3063: DtypeWarning: Columns (12,64,76) have mixed types.Specify dtype option on import or set low_memory=False.\n",
      "  interactivity=interactivity, compiler=compiler, result=result)\n",
      "C:\\Users\\nohor\\anaconda3\\lib\\site-packages\\IPython\\core\\interactiveshell.py:3063: DtypeWarning: Columns (10,11,12,13,14,15,16,17,18,19) have mixed types.Specify dtype option on import or set low_memory=False.\n",
      "  interactivity=interactivity, compiler=compiler, result=result)\n"
     ]
    }
   ],
   "source": [
    "Pro2017 = pd.read_csv('Resultados_Saber_Pro_Competencias_Genericas_2017.csv')\n",
    "Pro2018 = pd.read_csv('Resultados_Saber_Pro_Competencias_Genericas_2018-2.csv')\n",
    "Pro2019 = pd.read_csv('Resultados_Saber_Pro_Competencias_Genericas_2019-2.csv')\n",
    "\n",
    "\n",
    "Pro2016.columns = map(str.lower, Pro2016.columns)\n",
    "Pro2017.columns = map(str.lower, Pro2017.columns)\n",
    "Pro2018.columns = map(str.lower, Pro2018.columns)\n",
    "Pro2019.columns = map(str.lower, Pro2019.columns)"
   ]
  },
  {
   "cell_type": "code",
   "execution_count": 15,
   "metadata": {},
   "outputs": [
    {
     "name": "stdout",
     "output_type": "stream",
     "text": [
      "(242629, 99)\n",
      "(245593, 106)\n",
      "(237112, 106)\n",
      "(260756, 105)\n"
     ]
    }
   ],
   "source": [
    "print(Pro2016.shape)\n",
    "print(Pro2017.shape)\n",
    "print(Pro2018.shape)\n",
    "print(Pro2019.shape)"
   ]
  },
  {
   "cell_type": "code",
   "execution_count": 8,
   "metadata": {},
   "outputs": [],
   "source": [
    "SaberProGenericas = pd.concat([Pro2016, Pro2017, Pro2018, Pro2019])\n",
    "SaberProGenericas.columns = map(str.lower, SaberProGenericas.columns)\n"
   ]
  },
  {
   "cell_type": "code",
   "execution_count": 9,
   "metadata": {},
   "outputs": [
    {
     "name": "stdout",
     "output_type": "stream",
     "text": [
      "(986090, 132)\n"
     ]
    }
   ],
   "source": [
    "print(SaberProGenericas.shape)\n",
    "#SaberProGenericas.head()"
   ]
  },
  {
   "cell_type": "code",
   "execution_count": 10,
   "metadata": {},
   "outputs": [],
   "source": [
    "#export to csv\n",
    "#SaberProGenericas.to_csv( \"SaberProGenericas.csv\", index=False, encoding='utf-8-sig')"
   ]
  },
  {
   "cell_type": "code",
   "execution_count": 11,
   "metadata": {},
   "outputs": [],
   "source": [
    "#Llave\n",
    "#En caso de querer incluir mas bases de Saber11 hay que cambiar esto\n",
    "Llave = pd.read_csv(\"Llave_Saber11_2006-1_2019-2_SaberPRO_2012-1_2019-2.txt\")\n",
    "Llave[\"KeySaber11\"]=Llave[\"estu_consecutivo_11\"].str[7:12]\n",
    "Llave[\"len1\"]=Llave[\"estu_consecutivo_11\"].str.find(\"20\")\n",
    "Llave.loc[Llave[\"len1\"]==4,\"KeySaber11\"]=Llave[\"estu_consecutivo_11\"].str[4:9]\n",
    "Llave[\"len2\"]=Llave[\"estu_consecutivo_PRO\"].str.find(\"20\");\n",
    "Llave[\"KeySaberPRO\"]=Llave[\"estu_consecutivo_PRO\"].str[2:7]\n",
    "Keys=Llave[(Llave.KeySaberPRO >= '20161')]"
   ]
  },
  {
   "cell_type": "code",
   "execution_count": 12,
   "metadata": {},
   "outputs": [
    {
     "data": {
      "text/plain": [
       "(990583, 138)"
      ]
     },
     "execution_count": 12,
     "metadata": {},
     "output_type": "execute_result"
    }
   ],
   "source": [
    "#Cruzar con la llave\n",
    "SaberProKey=SaberProGenericas.merge(Keys, left_on='estu_consecutivo', right_on='estu_consecutivo_PRO', how='left')\n",
    "SaberProKey.shape\n"
   ]
  },
  {
   "cell_type": "code",
   "execution_count": 14,
   "metadata": {},
   "outputs": [],
   "source": [
    "SaberProKey.to_csv( \"SaberProKey.csv\", index=False, encoding='utf-8-sig')"
   ]
  },
  {
   "cell_type": "markdown",
   "metadata": {},
   "source": [
    "## Seleccionar Columnas"
   ]
  },
  {
   "cell_type": "code",
   "execution_count": 20,
   "metadata": {},
   "outputs": [],
   "source": [
    "#print(SaberProKey.shape)\n",
    "#for i in SaberProKey.columns:\n",
    "#  print(i)"
   ]
  },
  {
   "cell_type": "code",
   "execution_count": 14,
   "metadata": {},
   "outputs": [
    {
     "data": {
      "text/plain": [
       "(990583, 24)"
      ]
     },
     "execution_count": 14,
     "metadata": {},
     "output_type": "execute_result"
    }
   ],
   "source": [
    "SaberProKey2=SaberProKey[[\n",
    "                            'estu_genero',\n",
    "                            'estu_fechanacimiento',\n",
    "                            'periodo',\n",
    "                            'estu_depto_reside',\n",
    "                            'estu_mcpio_reside',\n",
    "                            'estu_areareside',\n",
    "                            'fami_estratovivienda',\n",
    "                            'estu_horassemanatrabaja',\n",
    "                            'estu_prgm_departamento',\n",
    "                            'estu_inst_municipio',\n",
    "                            'estu_inst_departamento',\n",
    "                            'estu_depto_presentacion',\n",
    "                            'mod_razona_cuantitat_punt',\n",
    "                            'mod_razona_cuantitat_desem',\n",
    "                            'mod_lectura_critica_punt',\n",
    "                            'mod_lectura_critica_desem',\n",
    "                            'estu_consecutivo',\n",
    "                            'estu_pais_reside',\n",
    "                            'fami_cuantoscompartebaño',\n",
    "                            'punt_global',\n",
    "                            'estu_consecutivo_11',\n",
    "                            'estu_consecutivo_PRO',\n",
    "                            'KeySaber11',\n",
    "                            'KeySaberPRO'\n",
    "\n",
    "        ]]\n",
    "SaberProKey2.shape"
   ]
  },
  {
   "cell_type": "code",
   "execution_count": 15,
   "metadata": {},
   "outputs": [
    {
     "data": {
      "text/plain": [
       "Index(['estu_genero', 'estu_fechanacimiento', 'estu_depto_reside',\n",
       "       'estu_mcpio_reside', 'estu_areareside', 'fami_estratovivienda',\n",
       "       'estu_horassemanatrabaja', 'estu_prgm_departamento',\n",
       "       'estu_inst_municipio', 'estu_inst_departamento',\n",
       "       'estu_depto_presentacion', 'estu_consecutivo', 'estu_pais_reside',\n",
       "       'fami_cuantoscompartebaño', 'estu_consecutivo_11',\n",
       "       'estu_consecutivo_PRO', 'KeySaber11', 'KeySaberPRO'],\n",
       "      dtype='object')"
      ]
     },
     "execution_count": 15,
     "metadata": {},
     "output_type": "execute_result"
    }
   ],
   "source": [
    "cat_df= SaberProKey2.select_dtypes(include=['object']).copy()\n",
    "cat_df.columns\n",
    "#for i in cat_df.columns:\n",
    "#        print(cat_df[i].value_counts())"
   ]
  },
  {
   "cell_type": "code",
   "execution_count": 19,
   "metadata": {},
   "outputs": [
    {
     "name": "stdout",
     "output_type": "stream",
     "text": [
      "(990583, 18)\n",
      "estu_genero 3\n",
      "estu_fechanacimiento 35782\n",
      "estu_depto_reside 36\n",
      "estu_mcpio_reside 1387\n",
      "estu_areareside 3\n",
      "fami_estratovivienda 9\n",
      "estu_horassemanatrabaja 6\n",
      "estu_prgm_departamento 33\n",
      "estu_inst_municipio 152\n",
      "estu_inst_departamento 31\n",
      "estu_depto_presentacion 77\n",
      "estu_consecutivo 986090\n",
      "estu_pais_reside 90\n",
      "fami_cuantoscompartebaño 9\n",
      "estu_consecutivo_11 683267\n",
      "estu_consecutivo_PRO 680938\n",
      "KeySaber11 27\n",
      "KeySaberPRO 10\n"
     ]
    }
   ],
   "source": [
    "print(cat_df.shape)\n",
    "for i in cat_df.columns:\n",
    "  print(i, cat_df[i].value_counts().count())"
   ]
  },
  {
   "cell_type": "code",
   "execution_count": 28,
   "metadata": {},
   "outputs": [],
   "source": [
    "#export to csv\n",
    "SaberProKey2.to_csv( \"SaberProKey2.csv\", index=False, encoding='utf-8-sig')"
   ]
  },
  {
   "cell_type": "markdown",
   "metadata": {},
   "source": [
    "## Crear Variables"
   ]
  },
  {
   "cell_type": "code",
   "execution_count": null,
   "metadata": {},
   "outputs": [],
   "source": [
    "SaberProKey2[\"yyyy\"] = SaberProKey2[\"periodo\"].apply(\n",
    "    lambda x: int(str(x)[:4]))\n",
    "SaberProKey2.head(2)\n",
    "\n",
    "SaberProKey2.loc[Llave[\"len1\"]==4,\"KeySaber11\"]=Llave[\"estu_consecutivo_11\"].str[4:9]\n"
   ]
  },
  {
   "cell_type": "code",
   "execution_count": null,
   "metadata": {},
   "outputs": [],
   "source": [
    "# Edad\n",
    "# LugarResidenciaUniversidad\n",
    "\n",
    "SaberProKey2.loc[Llave[\"len1\"]==4,\"KeySaber11\"]=Llave[\"estu_consecutivo_11\"].str[4:9]"
   ]
  },
  {
   "cell_type": "code",
   "execution_count": 16,
   "metadata": {},
   "outputs": [],
   "source": [
    "#export to csv\n",
    "#SaberProKey.to_csv( \"SaberProKey.csv\", index=False, encoding='utf-8-sig')"
   ]
  },
  {
   "cell_type": "markdown",
   "metadata": {},
   "source": [
    "## Cruzae con Saber 11"
   ]
  },
  {
   "cell_type": "code",
   "execution_count": 4,
   "metadata": {},
   "outputs": [
    {
     "name": "stderr",
     "output_type": "stream",
     "text": [
      "C:\\Users\\nohor\\anaconda3\\lib\\site-packages\\IPython\\core\\interactiveshell.py:3063: DtypeWarning: Columns (6,9,11,12,13,14,16,17,31,32,33,34,37,38,40,41,46,49,50,51,53,54,57,58,59,65,71,74,91,92,93,94,95,96,99,100,101,102,103,104,105,106,107,111,112,113,114,115,116,117,118,119,120,121,122,123,124,125) have mixed types.Specify dtype option on import or set low_memory=False.\n",
      "  interactivity=interactivity, compiler=compiler, result=result)\n"
     ]
    },
    {
     "data": {
      "text/plain": [
       "(990583, 138)"
      ]
     },
     "execution_count": 4,
     "metadata": {},
     "output_type": "execute_result"
    }
   ],
   "source": [
    "SaberPro = pd.read_csv('SaberProKey.csv')\n",
    "SaberPro.shape"
   ]
  },
  {
   "cell_type": "code",
   "execution_count": 5,
   "metadata": {},
   "outputs": [
    {
     "name": "stderr",
     "output_type": "stream",
     "text": [
      "C:\\Users\\nohor\\anaconda3\\lib\\site-packages\\IPython\\core\\interactiveshell.py:3063: DtypeWarning: Columns (0,1,5,11,12,13,15,17,18,19,20,21,22,23,24,25,27,29,31,35,45,47,49,50,60,63,69,73,75,76,78,79,87,88,89,95,96,97,98,99,100,101,119,120,130,131,132,133,134,135,136,137,138,139,140,141,142,143,144,145,146,147,148,149,150,151,152,153,154,155,156,157,158,159,160,161,162,163,164,165,166,167,168,169,170,171,172,173,174,175,176,177,178,179,180,181,182,183,184,185,186,187,188,189,190,191,192,193,194,195,196,197,198,199,200,201,202,203,204,205,206,207,208,209,210,211,213,214,215,216,217,218,219,220,221,222,223,224,225,226,227,228,229,230,231,232,233,234,235,236,237,238,239,240,241,256,257,258,259,260,261,262,263,264,265,266,267,268,269,281,282,283,284,285,286,287,288,289,290,291,292,293,294,295) have mixed types.Specify dtype option on import or set low_memory=False.\n",
      "  interactivity=interactivity, compiler=compiler, result=result)\n"
     ]
    },
    {
     "data": {
      "text/plain": [
       "(409716, 296)"
      ]
     },
     "execution_count": 5,
     "metadata": {},
     "output_type": "execute_result"
    }
   ],
   "source": [
    "Saber11 = pd.read_csv('Saber11.csv')\n",
    "Saber11.shape"
   ]
  },
  {
   "cell_type": "code",
   "execution_count": 6,
   "metadata": {},
   "outputs": [
    {
     "data": {
      "text/plain": [
       "(1045290, 434)"
      ]
     },
     "execution_count": 6,
     "metadata": {},
     "output_type": "execute_result"
    }
   ],
   "source": [
    "Saber=SaberPro.merge(Saber11, left_on='estu_consecutivo', right_on='estu_consecutivo_PRO', how='left')\n",
    "Saber.shape"
   ]
  },
  {
   "cell_type": "code",
   "execution_count": 7,
   "metadata": {},
   "outputs": [],
   "source": [
    "Saber.to_csv( \"Saber.csv\", index=False, encoding='utf-8-sig')"
   ]
  },
  {
   "cell_type": "markdown",
   "metadata": {},
   "source": [
    "## Consultas varias"
   ]
  },
  {
   "cell_type": "code",
   "execution_count": 26,
   "metadata": {},
   "outputs": [
    {
     "data": {
      "text/plain": [
       "(1045290, 4)"
      ]
     },
     "execution_count": 26,
     "metadata": {},
     "output_type": "execute_result"
    }
   ],
   "source": [
    "df.shape"
   ]
  },
  {
   "cell_type": "code",
   "execution_count": 25,
   "metadata": {},
   "outputs": [],
   "source": [
    "df = pd.merge(SaberPro[['estu_genero','periodo','estu_consecutivo_PRO'\n",
    "                       ]],\n",
    "              Saber11[['KeySaber11', 'estu_consecutivo_PRO'\n",
    "                      ]],\n",
    "              left_on='estu_consecutivo_PRO', right_on='estu_consecutivo_PRO'\n",
    "              , how='left')"
   ]
  },
  {
   "cell_type": "code",
   "execution_count": 27,
   "metadata": {},
   "outputs": [
    {
     "name": "stdout",
     "output_type": "stream",
     "text": [
      "F    617451\n",
      "M    426811\n",
      "-      1001\n",
      "Name: estu_genero, dtype: int64\n",
      "20195    269265\n",
      "20163    262094\n",
      "20173    259762\n",
      "20183    247011\n",
      "20194      2129\n",
      "20182      1558\n",
      "20172      1446\n",
      "20162      1393\n",
      "20184       393\n",
      "20196       239\n",
      "Name: periodo, dtype: int64\n",
      "EK201830102855    20\n",
      "EK201950226991    16\n",
      "EK201950250006    15\n",
      "EK201830117702    12\n",
      "EK201630159993    12\n",
      "                  ..\n",
      "EK201830203470     1\n",
      "EK201950343512     1\n",
      "EK201730233786     1\n",
      "EK201730012491     1\n",
      "EK201950324085     1\n",
      "Name: estu_consecutivo_PRO, Length: 680938, dtype: int64\n",
      "20092.0    103508\n",
      "20132.0     94683\n",
      "20142.0     66601\n",
      "20082.0     39176\n",
      "20072.0     31643\n",
      "20062.0     25667\n",
      "20152.0     17747\n",
      "20131.0      8560\n",
      "20141.0      6537\n",
      "20091.0      5702\n",
      "20081.0      4275\n",
      "20071.0      3616\n",
      "20151.0      3525\n",
      "20061.0      2531\n",
      "20161.0       816\n",
      "20171.0        64\n",
      "20191.0        28\n",
      "20181.0        22\n",
      "Name: KeySaber11, dtype: int64\n"
     ]
    }
   ],
   "source": [
    "for i in df.columns:\n",
    "       print(df[i].value_counts())"
   ]
  },
  {
   "cell_type": "code",
   "execution_count": 17,
   "metadata": {
    "scrolled": true
   },
   "outputs": [
    {
     "data": {
      "text/plain": [
       "Index(['estu_tipodocumento', 'estu_nacionalidad', 'estu_genero',\n",
       "       'estu_fechanacimiento', 'estu_exterior', 'periodo', 'apli_consecutivo',\n",
       "       'estu_estudiante', 'estu_depto_reside', 'estu_cod_reside_depto',\n",
       "       ...\n",
       "       'mod_competen_ciudada_pnbc', 'mod_ingles_pnbc',\n",
       "       'mod_comuni_escrita_pnbc', 'percentil_nbc', 'estu_consecutivo_11',\n",
       "       'estu_consecutivo_PRO', 'KeySaber11', 'len1', 'len2', 'KeySaberPRO'],\n",
       "      dtype='object', length=138)"
      ]
     },
     "execution_count": 17,
     "metadata": {},
     "output_type": "execute_result"
    }
   ],
   "source": [
    "SaberPro.columns"
   ]
  },
  {
   "cell_type": "code",
   "execution_count": 48,
   "metadata": {
    "scrolled": true
   },
   "outputs": [],
   "source": [
    "EjemploSaberPro=SaberPro[(SaberPro.estu_consecutivo == 'EK201830102855')]"
   ]
  },
  {
   "cell_type": "code",
   "execution_count": 49,
   "metadata": {},
   "outputs": [],
   "source": [
    "EjemploSaberPro.to_csv( \"EjemploSaberPro.csv\", index=False, encoding='utf-8-sig')"
   ]
  },
  {
   "cell_type": "code",
   "execution_count": 50,
   "metadata": {},
   "outputs": [],
   "source": [
    "EjemploSaber11=Saber11[(Saber11.estu_consecutivo_PRO == 'EK201830102855')]"
   ]
  },
  {
   "cell_type": "code",
   "execution_count": 51,
   "metadata": {},
   "outputs": [],
   "source": [
    "EjemploSaber11.to_csv( \"EjemploSaber11.csv\", index=False, encoding='utf-8-sig')"
   ]
  },
  {
   "cell_type": "code",
   "execution_count": 63,
   "metadata": {},
   "outputs": [],
   "source": [
    "EjemploSaber=EjemploSaberPro.merge(EjemploSaber11, left_on='estu_consecutivo', right_on='estu_consecutivo_PRO', suffixes=[\"_PRO\", \"_11\"], how='left')\n",
    "EjemploSaber.to_csv( \"EjemploSaber.csv\", index=False, encoding='utf-8-sig')"
   ]
  },
  {
   "cell_type": "code",
   "execution_count": 19,
   "metadata": {},
   "outputs": [
    {
     "name": "stdout",
     "output_type": "stream",
     "text": [
      "EK201730077444    5\n",
      "EK201830224318    4\n",
      "EK201950226991    4\n",
      "EK201630049777    4\n",
      "EK201830102855    4\n",
      "                 ..\n",
      "EK201830040008    1\n",
      "EK201630040200    1\n",
      "EK201950122299    1\n",
      "EK201950258208    1\n",
      "EK201950136719    1\n",
      "Name: estu_consecutivo, Length: 986090, dtype: int64\n"
     ]
    }
   ],
   "source": [
    "print(SaberPro['estu_consecutivo'].value_counts())\n",
    "#for i in SaberPro.columns:\n",
    "#        print(SaberPro[i].value_counts())"
   ]
  },
  {
   "cell_type": "code",
   "execution_count": 47,
   "metadata": {},
   "outputs": [
    {
     "data": {
      "text/plain": [
       "EK201950250006    5\n",
       "EK201830102855    5\n",
       "EK201630216290    4\n",
       "EK201830117702    4\n",
       "EK201830230882    4\n",
       "EK201730006976    4\n",
       "EK201630159993    4\n",
       "EK201630072166    4\n",
       "EK201630175923    4\n",
       "EK201830177287    4\n",
       "Name: estu_consecutivo_PRO, dtype: int64"
      ]
     },
     "execution_count": 47,
     "metadata": {},
     "output_type": "execute_result"
    }
   ],
   "source": [
    "Saber11['estu_consecutivo_PRO'].value_counts().head(10)"
   ]
  },
  {
   "cell_type": "code",
   "execution_count": null,
   "metadata": {},
   "outputs": [],
   "source": []
  }
 ],
 "metadata": {
  "kernelspec": {
   "display_name": "Python 3",
   "language": "python",
   "name": "python3"
  },
  "language_info": {
   "codemirror_mode": {
    "name": "ipython",
    "version": 3
   },
   "file_extension": ".py",
   "mimetype": "text/x-python",
   "name": "python",
   "nbconvert_exporter": "python",
   "pygments_lexer": "ipython3",
   "version": "3.7.6"
  }
 },
 "nbformat": 4,
 "nbformat_minor": 4
}
